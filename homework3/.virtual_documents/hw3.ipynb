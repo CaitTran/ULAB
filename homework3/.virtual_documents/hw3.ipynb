





# reminder: if a "#" is in front of a line of code, your computer will NOT read it
# have python print the following message by running this cell:
print("Python is awesome!")





age = 20 # this is a variable (specifically an integer)
print("The age is:", age)





year = 2024
print("the current year is:")
print(year)
type(year)






temperature = 98.6
print(temperature)
type(temperature)






name = "Caitlin"
print(name)





weekend = False
print(weekend)
type(weekend)





favorite_colors = ["pink", "blue"]
type(favorite_colors)





answer = 2 + 2 * 5
print(answer)


num1 = 4
num2 = 6
print(num1 + num2)





radius = 5
answer = 3.14 * radius ** 2
print(answer)






print("Something is wrong")



