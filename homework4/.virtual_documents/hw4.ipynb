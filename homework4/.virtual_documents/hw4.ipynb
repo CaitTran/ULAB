





#I forgot to copy paste the error messages when I was working through this homework assignment, but I mostly ran into Syntax Errors and a Type Error.

#Example Bug #1
"""
  Cell In[6], line 1
    def arithmetic_operations(num_1, num_2)
                                           ^
SyntaxError: expected ':'

"""

#Example Bug #2
"""
  Cell In[42], line 21
    for i in range (0,2)
                        ^
SyntaxError: expected ':'

""" 

#I ran into Syntax Errors mostly when I was defining functions, creating loops, and if-else statements, because I forgot to include a colon.

#Bug #3?
#For the Type Error, I originally did "if a == int:" for my 2.1 Arithmetic Function and it didn't work out because a is a variable and will never equal int









def arithmetic_operations(num_1, num_2):
    #takes 2 numbers (num_1, num_2) and returns a list with all mathematic operators done on those 2 numbers
    
    all_operations = []
    all_operations.append(num_1+num_2)
    all_operations.append(num_1-num_2)
    all_operations.append(num_1*num_2)
    all_operations.append(num_1/num_2)
    all_operations.append(num_1//num_2)
    all_operations.append(num_1%num_2)
    all_operations.append(num_1**num_2)
    return all_operations


example1 = arithmetic_operations(2, 3)
print(example1)

print(arithmetic_operations(5,4))
print(arithmetic_operations(100, 20))





#originally I put a and b as the input variables and I think that that confused my computer because I had the same line of text. Anyhow, I initialized a list in the second line, then added the results of the operations to the list through appending. Then, the function returns the finished list. 





print("--- ver 1 ---")

def increment_and_multiply(num_1):
    #Takes a number (num_1), adds 5 to it, then multiplies it by 3
    num_1 +=5
    num_1 *=3
    return num_1

example1 = increment_and_multiply(10)
print(example1) 
#expected: (10 + 5) --> 15 * 3 = 45 

print(increment_and_multiply(4))
print(increment_and_multiply(5))
print(increment_and_multiply(9))

print("--- ver 2 ----")

def increment_and_multiply_2(num_1):
    #Takes a number (num_1), adds 5 to it twice, then multiplies it by 3
    for i in range (0,2):
        num_1 += 5
    num_1 *= 3
    return num_1
    
example2 = increment_and_multiply_2(10)
print(example2)
#expected: (10 + 5) --> (15 + 5) --> 20 * 3 = 60

print(increment_and_multiply_2(4))
print(increment_and_multiply_2(5))
print(increment_and_multiply_2(9))





#I didn't know what it meant by increment--how many times do I increment by 5? So I wrote 2 functions (one that increments only once, and one that increments twice). Both functions reassign num_1 to be the value that the math operator makes it -- += and *=. 
#For the second function, I made it so i will go through the range of 0-2 (noninclusive) to create 2 loops of the operator that increments num_1 by 5. Then outside the loop, I multiply the new num_1 by 3.





def is_in_range(num_1, low, high):
    #takes 3 numbers (num_1, a low and high boundary) and compares num_1 to the low and high. if num_1 is greater than low but less than high, the function returns "True".
    
    if low <= num_1 <= high:
        return "True"
    else:
        return "False"

example1 = is_in_range(5, 1, 10)
print(example1)
print(is_in_range(15, 1, 10))
print(is_in_range(5, 5, 5))





#To check if a number is in a range, I used lesser than or equal to signs. Low should be lesser than or equal to num_1, and num_1 should be lesser than or equal to high. This is simple because it can be easily visualized in mathematic language.
#I set up an if else statement assigned to True and False respectively, so that any case not delineated by the function returns as "False".





def making_sentences(a, b, c, d, e):
    #takes 5 words (strings) and creates a sentence by adding them, along with spaces in between, and an exclamation mark at the end.
    
    sentence = a + ' ' + b + ' ' + c + ' ' + d + ' ' + e + '!'
    return sentence 

example_sentence = making_sentences("Here", "is", "your", "iced", "latte")
print(example_sentence)








def celsius_to_fahrenheit(temperature):
    #takes a temperature expressed in celsius and expresses it in fahrenheit
    
    temperature *= (9/5)
    temperature += 32
    return temperature

print("celsius to fahrenheit:", celsius_to_fahrenheit(40))

def celsius_to_kelvin(temperature):
    #takes a temperature expressed in celsius and expresses it in kelvin
    
    temperature += 273.15
    return temperature

print("celsius to kelvin:", celsius_to_kelvin(40))






def temperatures_in_fahrenheit_and_kelvin(temperature):
    #takes a temperature expressed in celsius and calls upon the celsius to fahrenheit and celsius to kelvin functions to return the temperature expressed in both fahrenheit and kelvin.
    
    fahrenheit = celsius_to_fahrenheit(temperature)
    kelvin = celsius_to_kelvin(temperature)
    return fahrenheit, kelvin

example1 = temperatures_in_fahrenheit_and_kelvin(40)
print(example1)
#I don't understand why screaming snake case syntax would be needed here, because I don't know what needs to be differentiated.  





def shopping_list(item, item_list = []): 
    #default argument item_list is the same list every time, no input needed/no new lists created
    #creates a default list and every time function is called after 1st time, only takes a new item (string) and appends it to the list.
    
    item_list.append(item)
    return item_list
    
item1 = shopping_list("chips")
print(item1)

item2 = shopping_list("ear plugs (bc ppl cant shut up in my dorm)")
print(item2)





#NA
