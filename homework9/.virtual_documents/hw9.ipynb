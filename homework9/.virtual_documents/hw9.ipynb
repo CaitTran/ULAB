





# IMPORT NECESSARY PACKAGES
import matplotlib.pyplot as plt
import numpy as np 





#plt.figure(figsize = [5, 5])





#x = [1, 2, 3, 4, 5]
#y = [2, 4, 6, 8, 10]





#plt.plot(x, y, label = "x, y as a line", color = "green", linestyle = "--", marker = "8")
#plt.scatter(x, y, label = "x, y as points", c = "orange", marker = "x")





#font1 = {"family": "serif", "color": "blue", "size": #}
"""Note: I don't know if the other parameteres are optional or not"""
#plt.title("X and Y (slope of 2x)", fontdict = font1)
#change the fontsize by adding an argument fontdict = {} (a dictionary) 
#with "size" = # where # is any number inside of it





#font1 = {"family": "serif", "color": "green", "size": 4}
#font2 = {"family": "serif", "color": "red", "size": 4} 
#plt.xlabel("X-axis", fontdict = font1)
#plt.ylabel("Y-axis", fontdict = font2)





#plt.legend()





#plt.show()





x = [1, 2, 3, 4, 5]
y = [2, 4, 6, 8, 10]
def x_and_y_plots(x, y):
    
    """
    Takes an x and y array and returns a 3 subplots with the function graphed as a line and set of points. 
    Input: x & y (arrays)
    Output: 3 subplots created with matplotlib.pyplot
    """

    #initialize the subplots (additional feature)
    fig, ax = plt.subplots(1, 3, figsize = (10, 10))
    #add space in between subplots (axes' labels don't overlap w plots)
    plt.subplots_adjust(wspace = 0.5)

    #create font1 and font2 to be used in subplots
    font1 = {"family": "serif", "color": "green", "size": 10}
    font2 = {"family": "serif", "color": "red", "size": 10} 
    
    #subplot 1
    
    ax[0].plot(x, y, label = "x, y as a line", color = "green", linestyle = "--", marker = "<")
    ax[0].scatter(x, y, label = "x, y as points", c = "orange", marker = "x")
    
    ax[0].set_title("X and Y (both)", fontdict = {"family": "serif", "color": "blue", "size": 10})
    
    ax[0].set_xlabel("X-axis", fontdict = font1)
    ax[0].set_ylabel("Y-axis", fontdict = font2)

    ax[0].legend()

    #subplot 2 (only as a line)
    ax[1].plot(x, y, label = "x, y as a line", color = "green", linestyle = "--", marker = "<")
    
    ax[1].set_title("X and Y (as a line)", fontdict = {"family": "serif", "color": "blue", "size": 10})
    
    ax[1].set_xlabel("X-axis", fontdict = font1)
    ax[1].set_ylabel("Y-axis", fontdict = font2)

    ax[1].legend()
    
    #subplot 3 (only as points)
    ax[2].scatter(x, y, label = "x, y as points", c = "orange", marker = "x")

    ax[2].set_title("X and Y (as a set of points)", fontdict = {"family": "serif", "color": "blue", "size": 10})
    
    ax[2].set_xlabel("X-axis", fontdict = font1)
    ax[2].set_ylabel("Y-axis", fontdict = font2)

    ax[2].legend()
    
    return plt.show()

x_and_y_plots(x, y)





x = [1, 2, 3, 4, 5, 6, 7, 8, 9, 10]
def square_and_squareroot(x_list):
    """
    Input: a list of x values (domain)
    Output: f(x) = x^2 and g(x) = sqrt(x) values and a 2d graph of both functions
    """
    
    #create the range for f(x) = x^2
    y_1 = np.square(np.linspace(x[0], x[9], 10))

    #return the f(x) values
    print(y_1)

    #create the range for g(x) = x^(1/2)
    y_2 = np.sqrt(np.linspace(x[0], x[9], 10)) 

    #return the g(x) values
    print(y_2)

    #create the figure (figsize = [10, 8])
    plt.figure(figsize = [10, 8])
    plt.xlabel("X-axis")
    plt.ylabel("Y-axis")
    plt.title("$f(x) = x^2$ and $g(x) = sqrt{x}$")

    #plot the functions
    plt.plot(x, y_1, label = "$f(x) = x^2$", color = "red", linestyle = "-.")
    plt.plot(x, y_2, label = "$g(x) = sqrtx", color = "blue", linestyle = ":")

    #add a legend
    plt.legend(loc = "upper right", bbox_to_anchor = (1.2, 1))

square_and_squareroot(x)





#Inside the plt.legend() command I put the arguments loc = "upper right" (loc for location) and bbox_to_anchor = (≥1, ≥1) to specify that the legend should be outside the graph (whose coordinates are (0,0) to (1,1)).
#code:
#plt.legend(loc = "upper right", bbox_to_anchor = (1.2, 1))





#I can add a vertical line to the plot by making a function v(x) for which the y values are a constant n:
#code for vertical line, ver 1:
#x = [1, 2, 3, 4, 5, 6, 7, 8, 9, 10]
#y = x/x (constant n)
#plt.plot(x, y, label = "v(x) = x/x")

#Or I can use plt.vlines(), where x is any number
#code for vertical line, ver 2:
#plt.vlines(x = 1, ymin = 0, ymax = max(x))

#I can add a horizonal line to the plot by making a function h(x) for which the x values are a constant n:
#code for horizontal line:
#y = [1, 2, 3, 4, 5, 6, 7, 8, 9, 10]
#x = y/y (constant n)
#plt.plot(x, y, label = "h(x) = y/y")

#Or I can use plt.hlines(), where y is any number
#code for horizontal line, ver 2:
#plt.hlines(y = 1, xmin = 0, xmax = max(y)) 





#I don't know what this means; I could input a different list for x-values/domain?





#plt.xlim(new lim #1, new lim #2)
#plt.ylim(new lim #1, new lim #2)





#print(np.sum(y_1)) for f(x)
#print(np.sum(y_2)) for g(x)





old_x = np.array([1, 2, 3, 4, 5, 6, 7, 8, 9, 10])

def square_and_squareroot(x_list):

    x = old_x * 2 #change the domain
    
    #create the range for f(x) = x^2
    y_1 = np.square(np.linspace(x[0], x[9], 10))

    #return the sum off(x) values
    print(np.sum(y_1))

    #create the range for g(x) = x^(1/2)
    y_2 = np.sqrt(np.linspace(x[0], x[9], 10)) 

    #return the sum of g(x) values
    print(np.sum(y_2))

    #create the figure (figsize = [10, 8])
    plt.figure(figsize = [10, 8])
    plt.xlabel("X-axis")
    plt.ylabel("Y-axis")
    plt.title("$f(x) = x^2$ and $g(x) = sqrt{x}$")
    plt.xlim(2, 20)
    plt.ylim(2, 20)

    #plot the functions (vertical and horizontal lines included)
    plt.plot(x, y_1, label = "$f(x) = x^2$", color = "red", linestyle = "-.")
    plt.plot(x, y_2, label = "$g(x) = sqrtx", color = "blue", linestyle = ":")
    plt.vlines(x = 3, ymin = 0, ymax = 400, label = "vertical line", color = "green")
    plt.hlines(y = 10, xmin = 0, xmax = 20, label = "horizontal line", color = "green")

    #add a legend
    plt.legend(loc = "upper right", bbox_to_anchor = (1.2, 1))

square_and_squareroot(old_x)





import caitlinsubplots as sb





x = np.linspace(0, 2*np.pi, 20)

sb.horizontal_subplots(x)





x = np.linspace(0, 2*np.pi, 20)

sb.vertical_subplots(x)





new_x = 2 * x

sb.horizontal_subplots(new_x)
sb.vertical_subplots(new_x)





import CaitlinsThreeDimensionalPlot as threed


x = np.arange(-5, 5, 1)
y = np.arange(-5, 5, 1)

threed.cosine_function_3d(x, y)





#https://matplotlib.org/stable/gallery/mplot3d/surface3d.html#sphx-glr-gallery-mplot3d-surface3d-py
#https://matplotlib.org/stable/gallery/color/colormap_reference.html
#https://www.youtube.com/watch?v=mbJUhXMvqfY





#IDK why it looks like that but. My function is supposed to take an x array and a y array and graphs a 3 dimensional cosine function (of ranging size within z limits of [-10, 10]. It also colors it rainbow based on the z-value. It's basically a function of what is coded above but you can change the size of it.






