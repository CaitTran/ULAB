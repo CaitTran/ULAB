





list = [1, 2, 3, 4, 5, 6, 7, 8, 9, 10, 11, 12, 14, 15, 16, 17, 18, 19, 20]

def slicing_and_striding(list_1):
    #returns a tuple of the sliced lists inside
    a = (list_1[0:5:1], list_1[-5::1], list[0:-1:2], list[::-1])
    return a

answer = slicing_and_striding(list)
print(answer)





list = [1, 2, 3, 4, 5, 6]

def square_and_cube(list_1):
    #initializes 2 new lists to contain squared values and cubed values of original list
    #list 1
    list_1_squared = []
    for num in list_1:
        num **= 2
        list_1_squared.append(num)
        #list 2
    list_1_cubed = []
    for num in list_1:
        num **= 3
        list_1_cubed.append(num)
    return (list_1_squared, list_1_cubed)

answer = square_and_cube(list)
print(answer)





# A dictionary that contains some data about the planets in our solar system
planet_data = {
    "Mercury": 0.39, 
    "Venus": 0.72,
    "Earth": 1.00, # distance from the Sun in AU
    "Mars": 1.52,
    "Jupiter": 5.20,
    "Saturn": 9.58,
    "Uranus": 19.22,
    "Neptune": 30.05
}   

print(planet_data) # print the dictonary





planet_data = {
    "Mercury": 0.39, 
    "Venus": 0.72,
    "Earth": 1.00, # distance from the Sun in AU
    "Mars": 1.52,
    "Jupiter": 5.20,
    "Saturn": 9.58,
    "Uranus": 19.22,
    "Neptune": 30.05
}   

def print_dictionary(any_dict):
    #prints the distance of each planet to the sun in format: "planet is x AU from the sun"
    for key, value in any_dict.items():
        print(f"{key} is {value} AU from the sun") 

answer1 = print_dictionary(planet_data)
print(answer1)





planet_data = {
    "Mercury": 0.39, 
    "Venus": 0.72,
    "Earth": 1.00, # distance from the Sun in AU
    "Mars": 1.52,
    "Jupiter": 5.20,
    "Saturn": 9.58,
    "Uranus": 19.22,
    "Neptune": 30.05
}   

#test
planets = list(planet_data.items())
print(planets)

print("------------------------")

def planets_farther_from_sun(any_dict):
    #turn the dictionary into a list, then index through the list to find values that are greater than/equal to 5
    planets = list(any_dict.items())
    index = 0
    while index < len(planets):
        key, value = planets[index]
            #assign the first item in each tuple (the key) 'key' and the second item (the value) 'value'
        if value >= 5:
            print(f"{key} ({value} AU away from Sun)")
        index += 1    

answer1 = planets_farther_from_sun(planet_data)
print(answer1)


planets = list(planet_data.items())
print(planets)








magnitudes = [12.5, 13.2, 14.8, 19.1, 21.0, 18.5, 15.3, 10.5, 23.0]

def star_magnitudes(any_list):
    #takes any list of magnitudes and outputs a tuple with the list of brightnesses of those magnitudes as well as the total brightness of all of the magnitudes
    brightnesses = []
    #initialize a brightnesses list
    
    for magnitudes in any_list:
        #iterate through the magnitudes, generate the brightness for each, add the brightness to the initialized list
        brightness = 10**(-(magnitudes)/2.5)
        int(brightness)
        brightnesses.append(brightness)
        
        total_sum = 0
        #initialize a total_sum to be added to
        
        for brightness in brightnesses:
            #iterate through brightnesses in the new list & add them to the initialized sum
            total_sum += brightness
            
    return (brightnesses, total_sum)

answer = star_magnitudes(magnitudes)
print(answer)






def observation_times(any_list):
    #takes the tuple from the previous function, only using the list within the tuple
    observation_time_list = []
    #initialize an observation time list
    
    for brightness in any_list:
        #go into the list within the tuple
        if isinstance(brightness, list):
            #test whether the list (brightness) is a list

            for b in brightness:
                #interate thru the values (b, brightnesses) in the list brightness, generate the observation times, add the times to the initialized observation_time_list
                observation_time = (1/b)
                observation_time_list.append(observation_time)

                total_observation_time = 0
                #intialize the total observation time sum to be added to
                
                if b < (10**-(20/2.5)):
                    #if the individual brightness value (b) within the list of brightnesses is less than magnitude 20, add the individual brightness value to the initialized sum
                    total_observation_time += observation_time
                    
    return (observation_time_list, total_observation_time)
        
answer2 = observation_times(answer)
print(answer2)
        





magnitudes = [12.5, 13.2, 14.8, 19.1, 21.0, 18.5, 15.3, 10.5, 23.0]
time_limit = 500

def how_long_to_observe_stars(magnitude_list, time_limit = 500):
    total_time = 0
    while total_time <= time_limit:
        if b < (10**-(20/2.5)):
            #blah code
            #observation time should vary based on diff star magnitudes
            total_time += observation_time
            number_of_stars_observed += 1
    return (number_of_stars_observed, total_time)
    





# Your code here for 3.4





def q_f(a, b = [num_1, num_2, num_3], c = 3):
    new_b = b[0]
    a = 2
    bottom = 2 * a
    #neg_answer = -(pos_answer)
    pos_answer = (-new_b + (new_b*2 - 4 * a * c)**(1/2)) / bottom 
    neg_answer = -(-new_b - (new_b**2 - 44 * a * c)**(1/2)) / bottom
    for i in range(55):
        answer1 = max(neg_answer)
        answer2 = min(pos_answer)
    return [answer1, answer2]

print (q_f(2, b = [-5, -5, -5], c = 3))






