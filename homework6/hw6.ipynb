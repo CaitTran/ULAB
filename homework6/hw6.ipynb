{
 "cells": [
  {
   "cell_type": "markdown",
   "id": "21a1f0d2-d75c-4443-b816-1d1db3760454",
   "metadata": {},
   "source": [
    "# HW 6 - Iterables\n",
    "ULAB - Physics and Astronomy Division \\\n",
    "Due **Wednesday, October 30th, 2024 at 11:59pm** on Gradescope\n",
    "\n",
    "### REMINDER: Once you are done with this homework, make sure to include a screenshot of you pushing this notebook inside of your homework6 branch. Make sure to include this screenshot in your branch before submitting to Gradescope!\n",
    "\n",
    "### If there is no screenshot, then you will recieve a zero! \n",
    "\n",
    "General Tip (so you don't get silly points taken off):\n",
    "- Make sure **each function** follows good coding practices (i.e. a comment, detailed names, different steps on each line, etc)."
   ]
  },
  {
   "cell_type": "markdown",
   "id": "8dc7e46b-1e8e-486c-a2e9-d615c687028b",
   "metadata": {},
   "source": [
    "# 1 Lists\n",
    "\n",
    "## 1.1 List Slicing and Striding\n",
    "Write a **function** that takes in a list of integers and returns:\n",
    "\n",
    "- the first 5 elements\n",
    "- the last 5 elements\n",
    "- every 2nd element in the list\n",
    "- the list in reverse order.\n",
    "\n",
    "Use the test case below, along with two other ones (that you make-up):\n",
    "\n",
    "```\n",
    "list1 = [1, 2, 3, 4, 5, 6, 7, 8, 9, 10, 11, 12, 14, 15, 16, 17, 18, 19, 20]\n",
    "```"
   ]
  },
  {
   "cell_type": "code",
   "execution_count": 3,
   "id": "08dabd73-3dbc-4aab-843a-d4b81102835d",
   "metadata": {},
   "outputs": [
    {
     "name": "stdout",
     "output_type": "stream",
     "text": [
      "([1, 2, 3, 4, 5], [16, 17, 18, 19, 20], [1, 3, 5, 7, 9, 11, 14, 16, 18], [20, 19, 18, 17, 16, 15, 14, 12, 11, 10, 9, 8, 7, 6, 5, 4, 3, 2, 1])\n",
      "([27, 8, 15, 42, 3], [56, 91, 34, 78, 12], [27, 15, 3, 91, 78], [12, 78, 34, 91, 56, 3, 42, 15, 8, 27])\n",
      "([49, 22, 67, 5, 84], [11, 38, 73, 90, 16], [49, 67, 84, 38, 90], [16, 90, 73, 38, 11, 84, 5, 67, 22, 49])\n"
     ]
    }
   ],
   "source": [
    "list_1 = [1, 2, 3, 4, 5, 6, 7, 8, 9, 10, 11, 12, 14, 15, 16, 17, 18, 19, 20]\n",
    "list_2 = [27, 8, 15, 42, 3, 56, 91, 34, 78, 12]\n",
    "list_3 = [49, 22, 67, 5, 84, 11, 38, 73, 90, 16] \n",
    "\n",
    "def slicing_and_striding(any_list):\n",
    "    \n",
    "    #returns a tuple of the sliced lists inside\n",
    "    first_five = any_list[0:5:1]\n",
    "    last_five = any_list[-5::1]\n",
    "    every_second = any_list[0:-1:2]\n",
    "    reverse_order = any_list[::-1]\n",
    "\n",
    "    #return all of them as a tuple\n",
    "    a = (first_five, last_five, every_second, reverse_order)\n",
    "\n",
    "    return a\n",
    "\n",
    "answer_1 = slicing_and_striding(list_1)\n",
    "print(answer_1)\n",
    "\n",
    "answer_2 = slicing_and_striding(list_2)\n",
    "print(answer_2)\n",
    "\n",
    "answer_3 = slicing_and_striding(list_3)\n",
    "print(answer_3)\n"
   ]
  },
  {
   "cell_type": "markdown",
   "id": "92c77920-20fc-455e-bf52-10b5a518ed2d",
   "metadata": {},
   "source": [
    "## 1.2 Iterating Over Lists with For Loops\n",
    "Write a **function** that takes in a list, with a **for** loop to return: \n",
    "- the square of each number in the list\n",
    "- the cube of each even number in the list\n",
    "\n",
    "Use the test case below, along with two other ones (that you make-up):\n",
    "\n",
    "```\n",
    "list1 = [1, 2, 3, 4, 5, 6]\n",
    "```"
   ]
  },
  {
   "cell_type": "code",
   "execution_count": 160,
   "id": "5054c807-a247-4159-9ce1-43020bcc3000",
   "metadata": {},
   "outputs": [
    {
     "name": "stdout",
     "output_type": "stream",
     "text": [
      "([1, 4, 9, 16, 25, 36], [1, 8, 27, 64, 125, 216])\n",
      "([49, 64, 81, 100, 121], [343, 512, 729, 1000, 1331])\n",
      "([144, 169, 196, 225, 256], [1728, 2197, 2744, 3375, 4096])\n"
     ]
    }
   ],
   "source": [
    "list_1 = [1, 2, 3, 4, 5, 6]\n",
    "list_2 = [7, 8, 9, 10, 11]\n",
    "list_3 = [12, 13, 14, 15, 16]\n",
    "\n",
    "def square_and_cube(any_list):\n",
    "    \n",
    "    #initializes 2 new lists to contain squared values and cubed values of original list\n",
    "    \n",
    "    #list 1\n",
    "    any_list_squared = []\n",
    "    for num in any_list:\n",
    "        num **= 2\n",
    "        any_list_squared.append(num)\n",
    "        \n",
    "    #list 2\n",
    "    any_list_cubed = []\n",
    "    for num in any_list:\n",
    "        num **= 3\n",
    "        any_list_cubed.append(num)\n",
    "\n",
    "    #return both lists as a tuple\n",
    "    return (any_list_squared, any_list_cubed)\n",
    "\n",
    "answer_1 = square_and_cube(list_1)\n",
    "print(answer_1)\n",
    "\n",
    "answer_2 = square_and_cube(list_2)\n",
    "print(answer_2)\n",
    "\n",
    "answer_3  = square_and_cube(list_3)\n",
    "print(answer_3)"
   ]
  },
  {
   "cell_type": "markdown",
   "id": "e2e075da-c004-400d-b796-5435e096816d",
   "metadata": {},
   "source": [
    "# 2 Dictionaries\n",
    "We have not fully covered **dictionaries** in class, but a **dictionary** is a collection of key-value pairs. Each key is unique and is associated with a specific value. Like a real dictionary! \n",
    "\n",
    "You can create a dictionary by placing key-value pairs inside of curly brackets `{}` with a `:` separating the key from the value. \n",
    "\n",
    "Run the cell below for an example:"
   ]
  },
  {
   "cell_type": "code",
   "execution_count": 126,
   "id": "dbdb0f41-4f57-4524-ab51-ff1fc502bdfc",
   "metadata": {},
   "outputs": [
    {
     "name": "stdout",
     "output_type": "stream",
     "text": [
      "{'Mercury': 0.39, 'Venus': 0.72, 'Earth': 1.0, 'Mars': 1.52, 'Jupiter': 5.2, 'Saturn': 9.58, 'Uranus': 19.22, 'Neptune': 30.05}\n"
     ]
    }
   ],
   "source": [
    "# A dictionary that contains some data about the planets in our solar system\n",
    "planet_data = {\n",
    "    \"Mercury\": 0.39, \n",
    "    \"Venus\": 0.72,\n",
    "    \"Earth\": 1.00, # distance from the Sun in AU\n",
    "    \"Mars\": 1.52,\n",
    "    \"Jupiter\": 5.20,\n",
    "    \"Saturn\": 9.58,\n",
    "    \"Uranus\": 19.22,\n",
    "    \"Neptune\": 30.05\n",
    "}   \n",
    "\n",
    "print(planet_data) # print the dictonary"
   ]
  },
  {
   "cell_type": "markdown",
   "id": "886c93f4-0027-4969-ba67-cc12eca04c9c",
   "metadata": {},
   "source": [
    "## 2.1 Looping through a dictionary\n",
    "Write a function that takes in the `planet_data` dictionary and uses a `for` loop to print the names of each of the planets and its distance from the sun."
   ]
  },
  {
   "cell_type": "code",
   "execution_count": 129,
   "id": "a3ab065a-42f5-4aa0-8e0f-38e87c583464",
   "metadata": {},
   "outputs": [
    {
     "name": "stdout",
     "output_type": "stream",
     "text": [
      "Mercury is 0.39 AU from the sun\n",
      "Venus is 0.72 AU from the sun\n",
      "Earth is 1.0 AU from the sun\n",
      "Mars is 1.52 AU from the sun\n",
      "Jupiter is 5.2 AU from the sun\n",
      "Saturn is 9.58 AU from the sun\n",
      "Uranus is 19.22 AU from the sun\n",
      "Neptune is 30.05 AU from the sun\n",
      "None\n"
     ]
    }
   ],
   "source": [
    "planet_data = {\n",
    "    \"Mercury\": 0.39, \n",
    "    \"Venus\": 0.72,\n",
    "    \"Earth\": 1.00, # distance from the Sun in AU\n",
    "    \"Mars\": 1.52,\n",
    "    \"Jupiter\": 5.20,\n",
    "    \"Saturn\": 9.58,\n",
    "    \"Uranus\": 19.22,\n",
    "    \"Neptune\": 30.05\n",
    "}   \n",
    "\n",
    "def print_dictionary(any_dict):\n",
    "    #prints the distance of each planet to the sun in format: \"planet is x AU from the sun\"\n",
    "    for key, value in any_dict.items():\n",
    "        print(f\"{key} is {value} AU from the sun\") \n",
    "\n",
    "answer1 = print_dictionary(planet_data)\n",
    "print(answer1)"
   ]
  },
  {
   "cell_type": "markdown",
   "id": "2b38b6fb-ce68-4f20-a8a1-ba241e8db53e",
   "metadata": {},
   "source": [
    "## 2.2 Dictionaries and Conditionals\n",
    "Write a function that uses a while loop to print all the planets that are a minimum distance of 5 AU from the Sun. "
   ]
  },
  {
   "cell_type": "code",
   "execution_count": 152,
   "id": "30d90af3-ec92-46a9-8e56-c26034dc51c1",
   "metadata": {},
   "outputs": [
    {
     "name": "stdout",
     "output_type": "stream",
     "text": [
      "[1, 2, 3, 4, 5, 6, 7, 8, 9, 10, 11, 12, 14, 15, 16, 17, 18, 19, 20]\n"
     ]
    }
   ],
   "source": [
    "print(list)"
   ]
  },
  {
   "cell_type": "code",
   "execution_count": 5,
   "id": "6e07cf13-efba-4a75-ad75-0428dc31108d",
   "metadata": {},
   "outputs": [
    {
     "name": "stdout",
     "output_type": "stream",
     "text": [
      "[('Mercury', 0.39), ('Venus', 0.72), ('Earth', 1.0), ('Mars', 1.52), ('Jupiter', 5.2), ('Saturn', 9.58), ('Uranus', 19.22), ('Neptune', 30.05)]\n",
      "------------------------\n",
      "Jupiter (5.2 AU away from Sun)\n",
      "Saturn (9.58 AU away from Sun)\n",
      "Uranus (19.22 AU away from Sun)\n",
      "Neptune (30.05 AU away from Sun)\n",
      "None\n"
     ]
    }
   ],
   "source": [
    "planet_data = {\n",
    "    \"Mercury\": 0.39, \n",
    "    \"Venus\": 0.72,\n",
    "    \"Earth\": 1.00, # distance from the Sun in AU\n",
    "    \"Mars\": 1.52,\n",
    "    \"Jupiter\": 5.20,\n",
    "    \"Saturn\": 9.58,\n",
    "    \"Uranus\": 19.22,\n",
    "    \"Neptune\": 30.05\n",
    "}   \n",
    "\n",
    "#test\n",
    "planets = list(planet_data.items())\n",
    "print(planets)\n",
    "\n",
    "print(\"------------------------\")\n",
    "\n",
    "def planets_farther_from_sun(any_dict):\n",
    "    #turn the dictionary into a list, then index through the list to find values that are greater than/equal to 5\n",
    "    planets = list(any_dict.items())\n",
    "    index = 0\n",
    "    while index < len(planets):\n",
    "        key, value = planets[index]\n",
    "            #assign the first item in each tuple (the key) 'key' and the second item (the value) 'value'\n",
    "        if value >= 5:\n",
    "            print(f\"{key} ({value} AU away from Sun)\")\n",
    "        index += 1    \n",
    "\n",
    "answer1 = planets_farther_from_sun(planet_data)\n",
    "print(answer1)"
   ]
  },
  {
   "cell_type": "code",
   "execution_count": 5,
   "id": "2f03274f-dd0a-497c-bc71-8a8d6239c52a",
   "metadata": {
    "collapsed": true,
    "jupyter": {
     "outputs_hidden": true,
     "source_hidden": true
    }
   },
   "outputs": [
    {
     "name": "stdout",
     "output_type": "stream",
     "text": [
      "[('Mercury', 0.39), ('Venus', 0.72), ('Earth', 1.0), ('Mars', 1.52), ('Jupiter', 5.2), ('Saturn', 9.58), ('Uranus', 19.22), ('Neptune', 30.05)]\n"
     ]
    }
   ],
   "source": [
    "planets = list(planet_data.items())\n",
    "print(planets)"
   ]
  },
  {
   "cell_type": "markdown",
   "id": "5e1ba0c0-5dd9-44e8-895c-73a36d614949",
   "metadata": {},
   "source": [
    "# 3 Observing Stars in a Cluster\n",
    "Your goal is to calculate the total brightness of a group of stars in a star cluster and estimate how long it would take for a telescope to observer each star, depending on their brightness (magnitude). Here is some background information:\n",
    "- The brightness of a star, from a telescope, is measured by its **apparent magnitude**, a LOWER magnitude means a brighter star. A HIGHER magnitude means a fainter star. So a 4th magnitude star is much brighter than a 17th magnitude star.\n",
    "- To convert magnitude into brightness, use the following formula\n",
    "$$\n",
    "\\text{Brightness} = 10^{-\\frac{\\text{magnitude}}{2.5}}\n",
    "$$\n",
    "\n",
    "Use this list of magnitudes and time limit:\n",
    "\n",
    "```\n",
    "magnitudes = [12.5, 13.2, 14.8, 19.1, 21.0, 18.5, 15.3, 10.5, 23.0]\n",
    "time_limit = 500\n",
    "```\n",
    "\n",
    "Expected outcome (your solutions with be the answers to the ???):\n",
    "- Total brightness of the stars: ???\n",
    "- Total observation time for all observable stars: ???\n",
    "- Number of stars that can be observed within 500 seconds: ???"
   ]
  },
  {
   "cell_type": "markdown",
   "id": "336785a7-71bf-434d-982c-dd72dd29cf71",
   "metadata": {},
   "source": [
    "## 3.1 Calculate Brightness\n",
    "1) Write a **function** which inputs a list of star magnitudes (brightnesses).\n",
    "2) Inside your function, use a `for` loop to calculate (with the given formula) the brightness of each star.\n",
    "3) Inside your function, use a `for` loop to sum up the total brightness of all the stars.\n",
    "5) Have your function return the **total brightness** of all the stars and a **list of the brightnesses** of the stars.\n",
    "6) Test out your function with the **given** magnitude values."
   ]
  },
  {
   "cell_type": "code",
   "execution_count": 17,
   "id": "ccc331f4-c029-4a82-810b-4a78d0fa1a2a",
   "metadata": {},
   "outputs": [
    {
     "name": "stdout",
     "output_type": "stream",
     "text": [
      "[[1e-05, 5.248074602497734e-06, 1.2022644346174132e-06, 2.29086765276777e-08, 3.981071705534969e-09, 3.981071705534969e-08, 7.585775750291836e-07, 6.309573444801929e-05, 6.309573444801942e-10], 8.037198248279666e-05]\n",
      "<class 'list'>\n"
     ]
    }
   ],
   "source": [
    "magnitudes = [12.5, 13.2, 14.8, 19.1, 21.0, 18.5, 15.3, 10.5, 23.0]\n",
    "\n",
    "def star_magnitudes(magnitude_list):\n",
    "    #takes any list of magnitudes and outputs a tuple with the list of brightnesses of those magnitudes as well as the total brightness of all of the magnitudes\n",
    "    brightnesses = []\n",
    "    #initialize a brightnesses list\n",
    "    \n",
    "    for magnitudes in magnitude_list:\n",
    "        #iterate through the magnitudes, generate the brightness for each, add the brightness to the initialized list\n",
    "        brightness = 10**(-(magnitudes)/2.5)\n",
    "        int(brightness)\n",
    "        brightnesses.append(brightness)\n",
    "        \n",
    "        total_sum = 0\n",
    "        #initialize a total_sum to be added to\n",
    "        \n",
    "        for brightness in brightnesses:\n",
    "            #iterate through brightnesses in the new list & add them to the initialized sum\n",
    "            total_sum += brightness\n",
    "            \n",
    "    return [brightnesses, total_sum]\n",
    "\n",
    "answer = star_magnitudes(magnitudes)\n",
    "print(answer)\n",
    "\n",
    "print(type(answer))"
   ]
  },
  {
   "cell_type": "markdown",
   "id": "9aff0e1c-9f88-4ebb-a05b-d39363d9e88e",
   "metadata": {},
   "source": [
    "## 3.2 Observation Time\n",
    "1) Write a **function** which inputs a list of star magnitudes (brightnesses).\n",
    "2) Inside your function, use a `for` loop to calculate the time to observe each star.\n",
    "- You can just assume each star's observation time is inversely proportional to its brightness with the following formula:\n",
    "\n",
    "$$\n",
    "\\text{Observation Time (in seconds)} \\propto \\frac{1}{\\text{Brightness}} \n",
    "$$\n",
    "\n",
    "3) Inside you function, write a `condition` that ignores stars that have a magnitude greater than 20 (very very faint stars).\n",
    "4) Have your function return the **total observation time** (ignoring >20 magnitudes) and a **list of the times** it would take to observe each individual star.\n",
    "5) Test out your function with the **given** magnitude values."
   ]
  },
  {
   "cell_type": "code",
   "execution_count": 60,
   "id": "044d17cf-82a8-44b6-8958-447632f713f6",
   "metadata": {},
   "outputs": [
    {
     "name": "stdout",
     "output_type": "stream",
     "text": [
      "([99999.99999999999, 190546.07179632442, 831763.7711026708, 43651583.22401666, 251188643.15095824, 25118864.315095823, 1318256.7385564074, 15848.931924611143, 1584893192.461111], 1584893192.461111)\n"
     ]
    }
   ],
   "source": [
    "def observation_times(magnitude_list):\n",
    "    #takes the tuple from the previous function, only using the list within the tuple\n",
    "    observation_time_list = []\n",
    "    #initialize an observation time list\n",
    "\n",
    "    brightnesses_list = []\n",
    "    for magnitudes in magnitude_list:\n",
    "        #iterate through the magnitudes, generate the brightness for each, add the brightness to the initialized list\n",
    "        brightness = 10**(-(magnitudes)/2.5)\n",
    "        brightnesses_list.append(brightness)\n",
    "\n",
    "    for brightness in brightnesses_list:\n",
    "        #interate thru the values (brightness) in the list brightnesses_list, generate the observation times, add the times to the initialized observation_time_list\n",
    "        observation_time = (1/brightness)\n",
    "        observation_time_list.append(observation_time)\n",
    "\n",
    "        total_observation_time = 0\n",
    "        #intialize the total observation time sum to be added to\n",
    "                \n",
    "        if brightness < 10**(-(20/2.25)):\n",
    "            #if the individual brightness value (brightness) within the brightnesses_list is less than magnitude 20, add the individual brightness value to the initialized sum\n",
    "            total_observation_time += observation_time\n",
    "                    \n",
    "    return (observation_time_list, total_observation_time)\n",
    "        \n",
    "answer2 = observation_times(magnitudes)\n",
    "print(answer2)\n",
    "        "
   ]
  },
  {
   "cell_type": "markdown",
   "id": "102d3c15-0b4f-48a7-8fdc-f896c1841aca",
   "metadata": {},
   "source": [
    "## 3.3 Time Until the Limit\n",
    "1) Write a **function** which inputs a list of star magnitudes (brightnesses) and time limit.\n",
    "   - Make your time limit a default argument.\n",
    "2) Inside your function, make a counter called `total time` and set it to 0.\n",
    "3) Inside your function, use a `while` loop to set the time limit of your observation.\n",
    "4) Inside your function, use assigment operators to update the `total time` observed. \n",
    "5) Inside your function, use a `condition` to skip stars with magnitude 20 or greater. \n",
    "6) Have your function return the **number of stars that can be observed** within the time limit and **how long the observation will take** (this should be less than the time limit).\n",
    "7) Test out your function with the **given** magnitude values and time limit."
   ]
  },
  {
   "cell_type": "code",
   "execution_count": 63,
   "id": "5a541a62-0903-41bd-91c9-ee21172069a3",
   "metadata": {},
   "outputs": [
    {
     "name": "stdout",
     "output_type": "stream",
     "text": [
      "(7, 71226863.0524925)\n"
     ]
    }
   ],
   "source": [
    "magnitudes = [12.5, 13.2, 14.8, 19.1, 21.0, 18.5, 15.3, 10.5, 23.0]\n",
    "time_limit = 500000 #changed time limit to 500 thousand from 500\n",
    "\n",
    "def how_long_to_observe_stars(magnitude_list, time_limit = 500000):\n",
    "    #takes a magnitude list and a set time limit (500,000 secs)\n",
    "\n",
    "    #initialize a counter for how long to observe (total time)\n",
    "    total_time = 0\n",
    "\n",
    "    #initialize a counter for stars observed\n",
    "    number_of_stars_observed = 0\n",
    "\n",
    "    #while the total time is less than 500,000\n",
    "    while total_time <= time_limit:\n",
    "\n",
    "        #iterate thru magnitudes in the given magnitude list\n",
    "        for magnitude in magnitude_list:\n",
    "\n",
    "            #if the magnitude is less than 20, include it\n",
    "            if magnitude < 20:\n",
    "                \n",
    "                #generate the brightness\n",
    "                brightness = 10**(-(magnitude)/2.5)\n",
    "\n",
    "                #use the brightness to generate observation time\n",
    "                observation_time = (1/brightness)\n",
    "\n",
    "                #add observation time to total time\n",
    "                total_time += observation_time\n",
    "\n",
    "                #add 1 to the counter (1 more star counted) every time another magnitude is iterated within the time limit\n",
    "                number_of_stars_observed += 1\n",
    "                \n",
    "    return (number_of_stars_observed, total_time)\n",
    "\n",
    "answer3 = how_long_to_observe_stars(magnitudes)\n",
    "print(answer3)"
   ]
  },
  {
   "cell_type": "markdown",
   "id": "d2ab246f-9570-483e-b35b-cf1056f20936",
   "metadata": {},
   "source": [
    "## 3.4 Call Upon Your Functions\n",
    "You do not need to rewrite your functions once you have written them! That's what is so awesome about **functions**! \n",
    "\n",
    "1) With a new test case (different magnitudes and time limit) call your three functions you wrote above.\n",
    "2) Print out their return statements, example:\n",
    "\n",
    "```\n",
    ">>> my_return = my_function(my_argument):\n",
    ">>> print(my_return)\n",
    "```"
   ]
  },
  {
   "cell_type": "code",
   "execution_count": 66,
   "id": "4c4c9389-04f5-49bc-823c-a12d6c003b60",
   "metadata": {},
   "outputs": [
    {
     "name": "stdout",
     "output_type": "stream",
     "text": [
      "[[120226.4434617413, 92.89663867799364, 0.06668067692136222, 0.1018591388054117, 0.6025595860743577, 1e-12], 120320.11119982108]\n",
      "([8.31763771102671e-06, 0.010764652136298349, 14.996848355023733, 9.817479430199844, 1.6595869074375609, 1000000000000.0], 1000000000000.0)\n",
      "(56640, 300018.54184016516)\n"
     ]
    }
   ],
   "source": [
    "new_test_case = [-12.7, -4.92, 2.94, 2.48, 0.55, 30]\n",
    "\n",
    "my_return_func1 = star_magnitudes(new_test_case)\n",
    "print(my_return_func1)\n",
    "\n",
    "my_return_func2 = observation_times(new_test_case)\n",
    "print(my_return_func2)\n",
    "\n",
    "my_return_func3 = how_long_to_observe_stars(new_test_case, time_limit = 300000)\n",
    "print(my_return_func3)"
   ]
  },
  {
   "cell_type": "markdown",
   "id": "daba92d4-a646-4efc-824d-85b52ea3c573",
   "metadata": {},
   "source": [
    "# 4 Debug the Quadratic Function!\n",
    "The code below does not follow proper coding hygiene (good coding sklls) and is riddled with bugs! Answer the following question and follow the steps below:\n",
    "1) When you run the cell, what is the first error you get? What does this mean? What are three other things wrong with this function?\n",
    "2) Fix the bugs! No importing packages.\n",
    "3) Rewrite the code, such that it follows \"good coding skills\".\n",
    "\n",
    "Try out the test case of `a = 2`, `b = -5` and `c = 3`. You should get `(1.5, 1.0)`. Try out your own test case as well."
   ]
  },
  {
   "cell_type": "code",
   "execution_count": 71,
   "id": "cd66dd28-f8d3-447c-8d20-ff3e31bfaa07",
   "metadata": {},
   "outputs": [
    {
     "name": "stdout",
     "output_type": "stream",
     "text": [
      "[1.5, 1.0]\n"
     ]
    }
   ],
   "source": [
    "def quadratic_formula(a, b, c):\n",
    "    #takes 3 numbers (a, b, c) and inputs them into the quadratic formula\n",
    "    #input: 3 numbers a, b, & c\n",
    "    #output: positive answer (plus), negative answer (minus)\n",
    "\n",
    "    #create denominator\n",
    "    bottom = 2 * a\n",
    "    \n",
    "    #create numerator\n",
    "    #neg_answer = the minus part of plus or minus sqrt \n",
    "    pos_numerator = (-b + (b**2 - 4 * a * c)**(1/2)) \n",
    "    neg_numerator = (-b - (b**2 - 4 * a * c)**(1/2)) \n",
    "\n",
    "    #divide\n",
    "    pos_answer = pos_numerator / bottom\n",
    "    neg_answer = neg_numerator / bottom\n",
    "\n",
    "    #return both answers\n",
    "    return [pos_answer, neg_answer]\n",
    "\n",
    "test_case1 = quadratic_formula(2, -5, 3)\n",
    "print (test_case1)"
   ]
  },
  {
   "cell_type": "markdown",
   "id": "8cf33b19-9bca-484e-8129-d8a4896a1bfa",
   "metadata": {},
   "source": [
    "# 5 Proper Submission\n",
    "To recieve full credit for this assignment make sure you do the following:\n",
    "1) Copy this jupter notebook from the `ulab_2024` repository into **YOUR** local `homework` branch.\n",
    "   \n",
    "3) Follow the tasks. Make sure to run all the cells so that all output is visible.\n",
    "   \n",
    "5) Push this notebook to your remote `homework6` branch. Refer to the lecture slides for more information.\n",
    "      \n",
    "6) **WARNING!! IF YOU DO NOT FOLLOW THIS STEP YOU WILL RECIEVE A ZERO!**\n",
    "   1) Take a screenshot of your command line when you `push` this notebook from your local `homework6` branch to your remote `homework6` branch. Make sure to prove that you are inside a branch besides `main` or `master` by calling `git branch` and make sure to prove that your `homework6` branch only contains the homework4 folder of Jupyter Notebook you copied over from `ulab_2024` (which can be done by calling `ls`). You could also call `git status` before/after as a way to prove you pushed the proper files to the correct branches.\n",
    "   2)  Include that screenshot in your remote branch when you upload your GitHub branch to Gradescope!g"
   ]
  },
  {
   "cell_type": "code",
   "execution_count": null,
   "id": "b0926042-d1cf-4a2e-8fc8-d93395a6a7cf",
   "metadata": {},
   "outputs": [],
   "source": []
  }
 ],
 "metadata": {
  "kernelspec": {
   "display_name": "Python 3 (ipykernel)",
   "language": "python",
   "name": "python3"
  },
  "language_info": {
   "codemirror_mode": {
    "name": "ipython",
    "version": 3
   },
   "file_extension": ".py",
   "mimetype": "text/x-python",
   "name": "python",
   "nbconvert_exporter": "python",
   "pygments_lexer": "ipython3",
   "version": "3.12.4"
  }
 },
 "nbformat": 4,
 "nbformat_minor": 5
}
