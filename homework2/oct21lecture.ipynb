{
 "cells": [
  {
   "cell_type": "code",
   "execution_count": 3,
   "id": "9aa80664-e95d-41ea-8516-bdf6d61ceeb5",
   "metadata": {},
   "outputs": [],
   "source": [
    "#Warmup/Review\n",
    "def average_of_three(a, b, c):\n",
    "    #returns the average of three numbers\n",
    "    return (a + b + c)/3\n",
    "\n",
    "def test_even(num_1):\n",
    "    #tests if numbers are even or odd\n",
    "    if num_1 % 2 == 0:\n",
    "        return True\n",
    "    else:\n",
    "        return False"
   ]
  },
  {
   "cell_type": "code",
   "execution_count": 1,
   "id": "04a4bf39-5bf6-473c-ac79-1e5627d22194",
   "metadata": {},
   "outputs": [
    {
     "name": "stdout",
     "output_type": "stream",
     "text": [
      "[10, 20, 30, 40, 50]\n",
      "[10, 20, 30, 40, 50]\n",
      "10\n",
      "40\n",
      "[10, 20, 30, 40, 50]\n",
      "[20, 30, 40]\n"
     ]
    }
   ],
   "source": [
    "#Creating a list\n",
    "my_list = [10, 20, 30, 40, 50]\n",
    "print(my_list)\n",
    "\n",
    "#Accessing elements by their index\n",
    "print(my_list)\n",
    "print(my_list[0])\n",
    "print(my_list[3])\n",
    "\n",
    "#Slicing a list (extract a part of the list)\n",
    "#[start:stop]\n",
    "print(my_list)\n",
    "print(my_list[1:4])"
   ]
  },
  {
   "cell_type": "code",
   "execution_count": 5,
   "id": "aeaa20af-78f5-499e-ac89-6c2911a6f266",
   "metadata": {},
   "outputs": [
    {
     "name": "stdout",
     "output_type": "stream",
     "text": [
      "[10, 20, 30, 40, 50]\n",
      "50\n"
     ]
    }
   ],
   "source": [
    "#Negative Indexing\n",
    "print(my_list)\n",
    "print(my_list[-1])"
   ]
  },
  {
   "cell_type": "code",
   "execution_count": 7,
   "id": "60333cc6-1058-438e-9ad1-ea38d7abb4ef",
   "metadata": {},
   "outputs": [
    {
     "name": "stdout",
     "output_type": "stream",
     "text": [
      "[10, 20, 30, 40, 50]\n",
      "[10, 20, 35, 40, 50]\n"
     ]
    }
   ],
   "source": [
    "#Modifying an element in a list\n",
    "print(my_list)\n",
    "my_list[2] = 35\n",
    "print(my_list)"
   ]
  },
  {
   "cell_type": "code",
   "execution_count": 15,
   "id": "df96d057-c1a8-4710-acc3-89b89a403c7a",
   "metadata": {},
   "outputs": [
    {
     "name": "stdout",
     "output_type": "stream",
     "text": [
      "[10, 20, 35, 40, 50, 60, 60]\n",
      "[10, 20, 35, 40, 50, 60, 60, 60]\n"
     ]
    }
   ],
   "source": [
    "#Appending lists\n",
    "print(my_list)\n",
    "my_list.append(60)\n",
    "print(my_list)"
   ]
  },
  {
   "cell_type": "code",
   "execution_count": 19,
   "id": "af7688ce-eab3-423f-9eec-cb2c34b061a1",
   "metadata": {},
   "outputs": [
    {
     "name": "stdout",
     "output_type": "stream",
     "text": [
      "[10, 20, 35, 40, 50, 60, 60]\n",
      "[10, 20, 35, 40, 50, 60]\n"
     ]
    }
   ],
   "source": [
    "#Removing elements\n",
    "print(my_list)\n",
    "my_list.remove(60)\n",
    "print(my_list)"
   ]
  },
  {
   "cell_type": "code",
   "execution_count": 23,
   "id": "5cd210a2-2956-407a-8066-fd55763e1f10",
   "metadata": {},
   "outputs": [
    {
     "name": "stdout",
     "output_type": "stream",
     "text": [
      "[10, 20, 35, 40, 50, 60]\n",
      "[10, 35, 50]\n"
     ]
    }
   ],
   "source": [
    "#List slicing and striding\n",
    "#Slicing with a step (stride)\n",
    "#[start:stop:step]\n",
    "print(my_list)\n",
    "print(my_list[::2])"
   ]
  },
  {
   "cell_type": "code",
   "execution_count": 27,
   "id": "f8d27e86-bf5c-4a3e-baae-b34be8e0ec1f",
   "metadata": {},
   "outputs": [
    {
     "name": "stdout",
     "output_type": "stream",
     "text": [
      "[10, 20, 35, 40, 50, 60]\n",
      "[60, 50, 40, 35, 20, 10]\n"
     ]
    }
   ],
   "source": [
    "#Slicing in reverse\n",
    "#[defaultstart:defaultstop:step]\n",
    "print(my_list)\n",
    "print(my_list[::-1])"
   ]
  },
  {
   "cell_type": "code",
   "execution_count": 31,
   "id": "5a3be309-8cf6-4e5e-bb6e-19d26332156a",
   "metadata": {},
   "outputs": [
    {
     "name": "stdout",
     "output_type": "stream",
     "text": [
      "[10, 20, 35, 40, 50, 60]\n",
      "10\n",
      "20\n",
      "35\n",
      "40\n",
      "50\n",
      "60\n"
     ]
    }
   ],
   "source": [
    "#For loops\n",
    "#Use a for loop to iterate over a list\n",
    "print(my_list)\n",
    "for element in my_list:\n",
    "    print(element)"
   ]
  },
  {
   "cell_type": "code",
   "execution_count": 33,
   "id": "ccb56e4c-6abc-4e0f-b046-bb4c9dd88f7f",
   "metadata": {},
   "outputs": [
    {
     "name": "stdout",
     "output_type": "stream",
     "text": [
      "0 10\n",
      "1 20\n",
      "2 35\n",
      "3 40\n",
      "4 50\n",
      "5 60\n"
     ]
    }
   ],
   "source": [
    "#Using range() to loop through indices\n",
    "for i in range(len(my_list)):\n",
    "    print(i, my_list[i])"
   ]
  },
  {
   "cell_type": "code",
   "execution_count": 37,
   "id": "cda4d06e-22c6-410f-806a-314394dd007b",
   "metadata": {},
   "outputs": [
    {
     "name": "stdout",
     "output_type": "stream",
     "text": [
      "x is greater than 10\n"
     ]
    }
   ],
   "source": [
    "#Conditionals (if, elif, else)\n",
    "#if-else statement\n",
    "x = 15\n",
    "if x > 10:\n",
    "    print(\"x is greater than 10\")\n",
    "else: print(\"x is less than 10\")"
   ]
  },
  {
   "cell_type": "code",
   "execution_count": 39,
   "id": "c297e071-7509-44ad-97ce-1b0bb34a744a",
   "metadata": {},
   "outputs": [
    {
     "name": "stdout",
     "output_type": "stream",
     "text": [
      "[10, 20, 35, 40, 50, 60]\n",
      "10 is less than 40\n",
      "20 is less than 40\n",
      "35 is less than 40\n",
      "40 is equal to 40\n",
      "50 is greater than 40\n",
      "60 is greater than 40\n"
     ]
    }
   ],
   "source": [
    "#Using conditionals inside loops\n",
    "print(my_list)\n",
    "for element in my_list:\n",
    "    if element > 40:\n",
    "        print(f\"{element} is greater than 40\")\n",
    "    elif element == 40:\n",
    "        print(f\"{element} is equal to 40\")\n",
    "    else:\n",
    "        print(f\"{element} is less than 40\")"
   ]
  },
  {
   "cell_type": "code",
   "execution_count": 41,
   "id": "9bbfd726-0661-4033-9c8c-af9ed5e92b2d",
   "metadata": {},
   "outputs": [
    {
     "name": "stdout",
     "output_type": "stream",
     "text": [
      "count: 0\n",
      "count: 1\n",
      "count: 2\n",
      "count: 3\n",
      "count: 4\n"
     ]
    }
   ],
   "source": [
    "#While loops\n",
    "#While Loops Example\n",
    "count = 0\n",
    "while count < 5:\n",
    "    print(\"count:\", count)\n",
    "    count += 1 "
   ]
  },
  {
   "cell_type": "code",
   "execution_count": 49,
   "id": "f8360fd1-74da-40a1-b250-35c889aeab67",
   "metadata": {},
   "outputs": [
    {
     "name": "stdout",
     "output_type": "stream",
     "text": [
      "[10, 20, 35, 40, 50, 60]\n",
      "Found 40 at index 3\n"
     ]
    }
   ],
   "source": [
    "#Combining loops and conditionals\n",
    "#Using a while loop with conditionals to find a number in a list\n",
    "print(my_list)\n",
    "\n",
    "target = 40\n",
    "\n",
    "found = False\n",
    "\n",
    "i = 0\n",
    "\n",
    "while not found and i < len(my_list):\n",
    "    #while found is not true and i is less than the length of the list\n",
    "    if my_list[i] == target:\n",
    "        print(f\"Found {target} at index {i}\")\n",
    "        found = True\n",
    "    i += 1"
   ]
  },
  {
   "cell_type": "code",
   "execution_count": 53,
   "id": "16c55645-171c-46fa-919b-dbf0abb465c4",
   "metadata": {},
   "outputs": [
    {
     "name": "stdout",
     "output_type": "stream",
     "text": [
      "hello 5!\n"
     ]
    }
   ],
   "source": [
    "#use f inside brackets outside quotation marks (\"\") and {} to print variables\n",
    "x = 5 \n",
    "print(f\"hello {x}!\")"
   ]
  },
  {
   "cell_type": "code",
   "execution_count": null,
   "id": "e37b8a63-348c-402f-bc9a-cf4042561ece",
   "metadata": {},
   "outputs": [],
   "source": []
  }
 ],
 "metadata": {
  "kernelspec": {
   "display_name": "Python 3 (ipykernel)",
   "language": "python",
   "name": "python3"
  },
  "language_info": {
   "codemirror_mode": {
    "name": "ipython",
    "version": 3
   },
   "file_extension": ".py",
   "mimetype": "text/x-python",
   "name": "python",
   "nbconvert_exporter": "python",
   "pygments_lexer": "ipython3",
   "version": "3.12.4"
  }
 },
 "nbformat": 4,
 "nbformat_minor": 5
}
