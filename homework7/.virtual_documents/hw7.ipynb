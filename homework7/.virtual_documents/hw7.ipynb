





import numpy as np





my_list = [11, 12, 13, 14, 15]
my_arr = np.array([11, 12, 13, 14, 15])





list_times_4 = my_list * 4
arr_times_4 = my_arr * 4

print(list_times_4)
arr_times_4

#the list is just appended onto itself 4 times, while the array's values are multiplied by 4





my_list_added = my_list + my_list
my_arr_added = my_arr + my_arr
my_list_add_arr = my_list + my_arr

print(my_list_added)
print(my_arr_added)
print(my_list_add_arr)

#the list is appended onto itself while the array's values are added to themself; the array values are added onto the list's values





my_list_subtracted = my_list - my_list
my_arr_subtracted = my_arr - my_arr
my_list_subtract_arr = my_list - my_arr

print(my_list_subtracted)
print(my_arr_subtracted)
print(my_list_subtract_arr)

#lists don't have an operand "-"; the array's values are subtracted from themself or the list's values





my_list_multiplied = my_list * my_list
my_arr_multiplied = my_arr * my_arr
my_list_multiply_arr = my_list * my_arr

print(my_list_multiplied)
print(my_arr_multiplied)
print(my_list_multiply_arr)

#lists don't have operand "*"; the array's values are multiplied to themself or the list's values





my_list_divided = my_list / my_list
my_arr_divided = my_arr / my_arr
my_list_divide_arr = my_list / my_arr

print(my_list_divided)
print(my_arr_divided)
print(my_list_divide_arr)

#lists don't have operand "/"; the array's values are divided by themself; the list's values are divided by the array's values (return a float of 1.)





#A list's values are treated as strings when operating with lists, while the array's values are treated as number values. 
#A list thus cannot be operated on 'mathematically', while an array can.








arr3 = np.array([[2, 4, 6], [8, 10, 12], [14, 16, 18]])

#I would make a function that takes a two dimensional function. Then, iterate through every row (x) then append to a pre-initialized list every 1st index element in each row.

def second_value_of_row(any_twodim):
    #takes in a two-dimensional array and returns every second element of each row.
    
    """
    input: two-dimensional array (e.g. arr3 = np.array([[2, 4, 6], [8, 10, 12], [14, 16, 18]])
    output: every second element (e.g. [4, 10, 16])
    """
    
    second_value_list = []
    #initiate list to contain answers
    
    for x in any_twodim:
        second_value_list.append(x[1])
        
    return second_value_list

answer1 = second_value_of_row(arr3)
print(answer1)           





#Array Iterating Section helped me by finding how to iterate through every row within the two-dimensional array. 
#Array Indexing Section helped me by finding how to get the 2nd value (1st index) of every row.





def filter_through_array(any_array, condition):
    
    #tests an array's values for whether they are equal to the condition
    
    """
    input: any 1-dimensional array, any number condition
    output: specific printed lines of each element, whether it meets the condition & why; 
    output: a tuple of the original inputted array & a list of true-false value of whether the elements meet the condition.
    """

    #intialize the true-false list
    condition_met_list = []

    #for loop to iterate thru every element in the 1-dimensional array
    for element in any_array:

        #if it is greater than
        if element > condition:
            condition_met_list.append(False)
            print(f"{element} did not meet the condition '= {condition}'; is greater than {condition}")

        #if it is lesser than
        elif element < condition:
            condition_met_list.append(False)
            print(f"{element} did not meet the condition '= {condition}'; is less than {condition}")

        #if it is equal to (else)
        else:
            condition_met_list.append(True)
            print(f"{element} met the condition '= {condition}'")

    #returns the tuple ("second" part of the output)
    return (any_array, condition_met_list)

arr1 = np.array([3.52, 6.3, 9.7, 1, 5])

answer1 = filter_through_array(arr1, 5)
print(answer1)





#Example 1: 

#make an array (to be used in tests)
arr = np.array([32, 31, 27, 68])

#give conditions for the array to follow
x = [True, False, True, False]

#apply the conditions to the array, making a new array
newarr = arr[x]

print(newarr)

#Example 2: Condition-based filter

#same array from Example 1 
arr = np.array([32, 31, 27, 68])

# Create an empty list
filter_arr = []

# go through each element in arr
for element in arr:
  # if the element is higher than 31, set the value to True, otherwise False:
  if element > 31:
    filter_arr.append(True)
  else:
    filter_arr.append(False)

newarr = arr[filter_arr]

print(filter_arr)
print(newarr)

#Example 3: Only Odds Returned

#make a array to be tested
arr = np.array([2, 5, 9, 8, 11, 6, 7])

# Create an empty list
filter_arr = []

# go through each element in arr
for element in arr:
  # if the element is not completely divisble by 2, set the value to True, otherwise False
  if element % 2 != 0:
    filter_arr.append(True)
  else:
    filter_arr.append(False)

newarr = arr[filter_arr]

print(filter_arr)
print(newarr)

#Example 4: Filter Directly From Array

#same array as Example 1
arr = np.array([32, 31, 27, 68])

#the condition to be met (filter) is if the values within the array are greater than 30
filter_arr = arr > 30

newarr = arr[filter_arr]

print(filter_arr)
print(newarr)





#I took inspiration from the NumPy Filter Array section, from the Condition-Based Filter example. The Condition-Based Filter looks through every element within an array and checks if it meets a condition with an if-else statement. I used that to create my own function, which is basically just a more elaborate version of the given example (I provide sentences explaining why the element doesn't satisfy the inputted condition). 





import even_sum as es





arr1 = np.array([2, 3, 4, 5, 6, 7, 8, 12, 17])

es.sum_even_numbers(arr1)





import example as ex





rocket_velocities = np.array([
    [1000, 5000, 8000, 12000],  # Rocket 1's velocity at different times
    [2000, 6000, 9000, 10000],  # Rocket 2
    [3000, 3100, 3200, 3300]    # Rocket 3
])

mass_of_planet = 5.972e24 # kilograms
radius_of_planet = 6.371e6 # meters

rocket1 = np.array([[1000, 5000, 8000, 12000]])
rocket2 = np.array([[2000, 6000, 9000, 10000]])
rocket3 = np.array([[3000, 3100, 3200, 3300]])


ex.rocket_launch(rocket_velocities, 5.972e24, 6.371e6)


#rocket1
ex.rocket_launch(rocket1, 5.972e24, 6.371e6)


#rocket2
ex.rocket_launch(rocket2, 5.972e24, 6.371e6)


#rocket3
ex.rocket_launch(rocket3, 5.972e24, 6.371e6)





#The function specifies the inputs and outputs, with what type it should be given in. The function also uses variable names that are easy to decipher. One thing to improve on is to have more comments explaining what each line of code does within the function.





# Your comment here





# Your comment here





import integration as intgr





intgr.riemann_sum_for_X(-5, 2, 10)



