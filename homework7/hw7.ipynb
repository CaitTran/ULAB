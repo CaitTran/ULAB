{
 "cells": [
  {
   "cell_type": "markdown",
   "id": "21a1f0d2-d75c-4443-b816-1d1db3760454",
   "metadata": {},
   "source": [
    "# HW 7 - Libraries + Modules\n",
    "ULAB - Physics and Astronomy Division \\\n",
    "Due **Wednesday, November 6th, 2024 at 11:59pm** on Gradescope\n",
    "\n",
    "--------------------------------------------------------------\n",
    "\n",
    "## Module vs. Package vs. Library\n",
    "### Module\n",
    "A **module** is a single file containing Python code (typically ending in a `.py` extension) that contains functions and variables. \n",
    "- They can be imported into other Python files or notebooks\n",
    "- You use modules to organize code into smaller, reuseable parts\n",
    "- Ex: `even_sum.py` that we created during lecture.\n",
    "\n",
    "*You will create your OWN module for this homework and use that we made during class.*\n",
    "\n",
    "### Package\n",
    "A **package** is a group of modules, organized like a directory. \n",
    "- A package requires a special `__init__.py` file to tell Python that the ENTIRE directory is something you would like to import.\n",
    "- Packages can contain sub-pacakges\n",
    "- Ex: `BAGLE_Microlensing` is an example of a package (if you are in Dex's group, this should be familar to you). Or you could think of `paarti` if you are in Brianna's group.\n",
    "\n",
    "*You will NOT be working with a package for this homework.*\n",
    "\n",
    "### Library\n",
    "A **library** is a much broader term that also refers to a collection of modules (like a package) but a library can also contain mulitple packages. \n",
    "- Libraries serve a much wider range of functionality for\n",
    "- Programmers use packages to have ready-to-go tools that can be used for data manipulation, web development, machine learning or simulations.\n",
    "- Ex: `numpy` is a very common library. Later in this course we will also be working some of the following libraries `matplotlib`, `scipy`, and `astropy`, `pandas`, etc\n",
    "\n",
    "*You WILL be working with the extensive numpy library for this homework!*\n",
    "\n",
    "--------------------------------------------------------------"
   ]
  },
  {
   "cell_type": "markdown",
   "id": "8dc7e46b-1e8e-486c-a2e9-d615c687028b",
   "metadata": {},
   "source": [
    "# 1 NumPy\n",
    "**NumPy** (aka Numerical Python) is a library that was designed for caring out computations in Python. \n",
    "\n",
    "We did not have a ton of time to work through examples during class, so I will ask that you check out this website for more information: https://numpy.org/doc/ \n",
    "\n",
    "Before we can work through any problems, you need to call the following in your notebook:"
   ]
  },
  {
   "cell_type": "code",
   "execution_count": 8,
   "id": "08dabd73-3dbc-4aab-843a-d4b81102835d",
   "metadata": {},
   "outputs": [],
   "source": [
    "import numpy as np"
   ]
  },
  {
   "cell_type": "markdown",
   "id": "92c77920-20fc-455e-bf52-10b5a518ed2d",
   "metadata": {},
   "source": [
    "## 1.1 Lists vs. Arrays\n",
    "*When I first started working with NumPy I didn't understand what was so special about arrays. This homework problem should help illustrate the difference. Make sure to follow each step and follow good coding practices.*\n",
    "\n",
    "1) Make a list called `my_list` and make an array called `my_arr` with the same values. There is an example below, but don't copy mine! Ex:\n",
    "```\n",
    "my_list = [11, 12, 13, 14, 15]\n",
    "my_arr = np.array([11, 12, 13, 14, 15])\n",
    "```\n",
    "*Notice that to use the `numpy` package we had to call its short cut `np` and then call upon its funciton `.array()`. This is similar to working with a built-in python function like `.append()`.*"
   ]
  },
  {
   "cell_type": "code",
   "execution_count": 8,
   "id": "494f31ac-a231-4f65-b202-e85208d6bee4",
   "metadata": {},
   "outputs": [],
   "source": [
    "my_list = [11, 12, 13, 14, 15]\n",
    "my_arr = np.array([11, 12, 13, 14, 15])"
   ]
  },
  {
   "cell_type": "markdown",
   "id": "861d42c4-411e-4ef9-b85c-68e1f61c4fcb",
   "metadata": {},
   "source": [
    "2) Multiply `my_list` by 4 and multiply `my_arr` by 4. Print the results. Describe what happens in a comment."
   ]
  },
  {
   "cell_type": "code",
   "execution_count": 14,
   "id": "79245f57-3a83-4300-96d2-ea7a9035d3eb",
   "metadata": {},
   "outputs": [
    {
     "name": "stdout",
     "output_type": "stream",
     "text": [
      "[11, 12, 13, 14, 15, 11, 12, 13, 14, 15, 11, 12, 13, 14, 15, 11, 12, 13, 14, 15]\n"
     ]
    },
    {
     "data": {
      "text/plain": [
       "array([44, 48, 52, 56, 60])"
      ]
     },
     "execution_count": 14,
     "metadata": {},
     "output_type": "execute_result"
    }
   ],
   "source": [
    "list_times_4 = my_list * 4\n",
    "arr_times_4 = my_arr * 4\n",
    "\n",
    "print(list_times_4)\n",
    "arr_times_4\n",
    "\n",
    "#the list is just appended onto itself 4 times, while the array's values are multiplied by 4"
   ]
  },
  {
   "cell_type": "markdown",
   "id": "aa2dc2fb-7a26-42e8-90db-18d1598f4d7c",
   "metadata": {},
   "source": [
    "3) Add `my_list` with `my_list`. Add `my_arr` with `my_arr`. Add `my_list` with `my_arr`. Print the results. Describe what happens in a comment."
   ]
  },
  {
   "cell_type": "code",
   "execution_count": 28,
   "id": "9f18f22e-3137-4aa9-b623-6d2c0caec4c3",
   "metadata": {},
   "outputs": [
    {
     "name": "stdout",
     "output_type": "stream",
     "text": [
      "[11, 12, 13, 14, 15, 11, 12, 13, 14, 15]\n",
      "[22 24 26 28 30]\n",
      "[22 24 26 28 30]\n"
     ]
    }
   ],
   "source": [
    "my_list_added = my_list + my_list\n",
    "my_arr_added = my_arr + my_arr\n",
    "my_list_add_arr = my_list + my_arr\n",
    "\n",
    "print(my_list_added)\n",
    "print(my_arr_added)\n",
    "print(my_list_add_arr)\n",
    "\n",
    "#the list is appended onto itself while the array's values are added to themself; the array values are added onto the list's values"
   ]
  },
  {
   "cell_type": "markdown",
   "id": "3be18720-756f-43d1-bad7-bd85e138ef7e",
   "metadata": {},
   "source": [
    "4) Subtract `my_list` with `my_list`. Subtract `my_arr` with `my_arr`. Subtract `my_list` with `my_arr`. Print the results. Describe what happens in a comment."
   ]
  },
  {
   "cell_type": "code",
   "execution_count": 40,
   "id": "131b09c8-d352-4566-b710-31316483ae89",
   "metadata": {},
   "outputs": [
    {
     "ename": "TypeError",
     "evalue": "unsupported operand type(s) for -: 'list' and 'list'",
     "output_type": "error",
     "traceback": [
      "\u001b[0;31m---------------------------------------------------------------------------\u001b[0m",
      "\u001b[0;31mTypeError\u001b[0m                                 Traceback (most recent call last)",
      "Cell \u001b[0;32mIn[40], line 1\u001b[0m\n\u001b[0;32m----> 1\u001b[0m my_list_subtracted \u001b[38;5;241m=\u001b[39m my_list \u001b[38;5;241m-\u001b[39m my_list\n\u001b[1;32m      2\u001b[0m my_arr_subtracted \u001b[38;5;241m=\u001b[39m my_arr \u001b[38;5;241m-\u001b[39m my_arr\n\u001b[1;32m      3\u001b[0m my_list_subtract_arr \u001b[38;5;241m=\u001b[39m my_list \u001b[38;5;241m-\u001b[39m my_arr\n",
      "\u001b[0;31mTypeError\u001b[0m: unsupported operand type(s) for -: 'list' and 'list'"
     ]
    }
   ],
   "source": [
    "my_list_subtracted = my_list - my_list\n",
    "my_arr_subtracted = my_arr - my_arr\n",
    "my_list_subtract_arr = my_list - my_arr\n",
    "\n",
    "print(my_list_subtracted)\n",
    "print(my_arr_subtracted)\n",
    "print(my_list_subtract_arr)\n",
    "\n",
    "#lists don't have an operand \"-\"; the array's values are subtracted from themself or the list's values"
   ]
  },
  {
   "cell_type": "markdown",
   "id": "9089eff6-4251-4a52-b263-c77b11343ece",
   "metadata": {},
   "source": [
    "5) Multiply `my_list` with `my_list`. Multply `my_arr` with `my_arr`. Multiply `my_list` with `my_arr`. Print the results. Describe what happens in a comment."
   ]
  },
  {
   "cell_type": "code",
   "execution_count": 44,
   "id": "cae7749f-cc6e-45d6-9e07-72aa2cefc0b6",
   "metadata": {},
   "outputs": [
    {
     "name": "stdout",
     "output_type": "stream",
     "text": [
      "[121 144 169 196 225]\n",
      "[121 144 169 196 225]\n"
     ]
    }
   ],
   "source": [
    "my_list_multiplied = my_list * my_list\n",
    "my_arr_multiplied = my_arr * my_arr\n",
    "my_list_multiply_arr = my_list * my_arr\n",
    "\n",
    "print(my_list_multiplied)\n",
    "print(my_arr_multiplied)\n",
    "print(my_list_multiply_arr)\n",
    "\n",
    "#lists don't have operand \"*\"; the array's values are multiplied to themself or the list's values"
   ]
  },
  {
   "cell_type": "markdown",
   "id": "55175f6e-e6b2-41b1-8015-5f1b099664e8",
   "metadata": {},
   "source": [
    "7) Divide `my_list` with `my_list`. Divide `my_arr` with `my_arr`. Divide `my_list` with `my_arr`. Print the results. Describe what happens in a comment."
   ]
  },
  {
   "cell_type": "code",
   "execution_count": 50,
   "id": "ccdc8e13-ec41-4b79-8034-0934c012580e",
   "metadata": {},
   "outputs": [
    {
     "name": "stdout",
     "output_type": "stream",
     "text": [
      "[1. 1. 1. 1. 1.]\n",
      "[1. 1. 1. 1. 1.]\n"
     ]
    }
   ],
   "source": [
    "my_list_divided = my_list / my_list\n",
    "my_arr_divided = my_arr / my_arr\n",
    "my_list_divide_arr = my_list / my_arr\n",
    "\n",
    "print(my_list_divided)\n",
    "print(my_arr_divided)\n",
    "print(my_list_divide_arr)\n",
    "\n",
    "#lists don't have operand \"/\"; the array's values are divided by themself; the list's values are divided by the array's values (return a float of 1.)"
   ]
  },
  {
   "cell_type": "markdown",
   "id": "1fb261e6-b99b-4e36-953a-e899da010469",
   "metadata": {},
   "source": [
    "8) After working through this problem, in at least two sentences, describe the difference between a list and an array."
   ]
  },
  {
   "cell_type": "code",
   "execution_count": 56,
   "id": "d702ddad-c84d-43d5-9fe0-d10b9083bf85",
   "metadata": {},
   "outputs": [],
   "source": [
    "#A list's values are treated as strings when operating with lists, while the array's values are treated as number values. \n",
    "#A list thus cannot be operated on 'mathematically', while an array can."
   ]
  },
  {
   "cell_type": "markdown",
   "id": "fdbccced-d3f0-4948-be6e-471028979576",
   "metadata": {},
   "source": [
    "## 1.2 Nested List and Multi-Dimensional Arrays\n",
    "A **nested list** is when you have a list as an element for a list. Example:\n",
    "```\n",
    "nested_list = [[1, 2, 3], [4, 5, 6]]\n",
    "```\n",
    "\n",
    "A **multi-dimensional array** is essentially a nested list, but it contains the properties of a matrix. Example:\n",
    "```\n",
    "multi_d_array = np.array([[1, 2, 3], [4, 5, 6]])\n",
    "```\n",
    "\n",
    "Go to this website for more information on NumPy: https://www.w3schools.com/python/numpy/default.asp\n",
    "\n",
    "Write a **function** that takes in a two-dimensional array. Example:\n",
    "\n",
    "```\n",
    "arr3 = np.array([[2, 4, 6], [8, 10, 12], [14, 16, 18]])\n",
    "```\n",
    "\n",
    "and then returns the second value in each row. Example:\n",
    "\n",
    "```\n",
    "[4, 10, 16]\n",
    "```"
   ]
  },
  {
   "cell_type": "markdown",
   "id": "2bee5ead-232c-495c-8e42-1721bd315957",
   "metadata": {},
   "source": [
    "How would you take a nested list and return the second value in each row? Explain in 2-3 sentences and show an example."
   ]
  },
  {
   "cell_type": "code",
   "execution_count": 104,
   "id": "e6d45993-2390-4e2d-bb6e-930919dd7d46",
   "metadata": {},
   "outputs": [
    {
     "name": "stdout",
     "output_type": "stream",
     "text": [
      "[4, 10, 16]\n"
     ]
    }
   ],
   "source": [
    "arr3 = np.array([[2, 4, 6], [8, 10, 12], [14, 16, 18]])\n",
    "\n",
    "#I would make a function that takes a two dimensional function. Then, iterate through every row (x) then append to a pre-initialized list every 1st index element in each row.\n",
    "\n",
    "def second_value_of_row(any_twodim):\n",
    "    #takes in a two-dimensional array and returns every second element of each row.\n",
    "    \n",
    "    \"\"\"\n",
    "    input: two-dimensional array (e.g. arr3 = np.array([[2, 4, 6], [8, 10, 12], [14, 16, 18]])\n",
    "    output: every second element (e.g. [4, 10, 16])\n",
    "    \"\"\"\n",
    "    \n",
    "    second_value_list = []\n",
    "    #initiate list to contain answers\n",
    "    \n",
    "    for x in any_twodim:\n",
    "        second_value_list.append(x[1])\n",
    "        \n",
    "    return second_value_list\n",
    "\n",
    "answer1 = second_value_of_row(arr3)\n",
    "print(answer1)           "
   ]
  },
  {
   "cell_type": "markdown",
   "id": "e5c0700d-def9-4afe-86f5-0a4b8862c0b4",
   "metadata": {},
   "source": [
    "In 2-3 sentences, describe what section of the website helped you write your function. "
   ]
  },
  {
   "cell_type": "code",
   "execution_count": 82,
   "id": "179c2c8d-3493-40a5-931f-7a92be8551a6",
   "metadata": {},
   "outputs": [],
   "source": [
    "#Array Iterating Section helped me by finding how to iterate through every row within the two-dimensional array. \n",
    "#Array Indexing Section helped me by finding how to get the 2nd value (1st index) of every row."
   ]
  },
  {
   "cell_type": "markdown",
   "id": "25eaeadc-b09d-4ca8-9849-822879abdad2",
   "metadata": {},
   "source": [
    "## 1.3 Up to You!\n",
    "With the website I just gave you: https://www.w3schools.com/python/numpy/default.asp\n",
    "\n",
    "I recommend working through the examples they provide (you don't have to do all of them, but a few would be good). It will help you build an intuition for numpy. It won't take very long, there are only a couple of examples per section.\n",
    "\n",
    "Write you own **function** that follows the theme of one of the sections (i.e. array reshaping, array filter, random intro, etc). For example, if you are curious about the section \"**NumPy Creating Arrays**\" you could write a function that creates a multi-dimensional array.\n",
    "\n",
    "```\n",
    "\n",
    ">>> def make_multi_dimensional_array(one_d_array, dimensions):\n",
    "...     # Creates a multi-dimensional array\n",
    "...     # Your code here\n",
    "...     return # Your code here\n",
    "\n",
    ">>> my_one_d_array = [2, 4, 6, 8]\n",
    ">>> my_dimension = 10\n",
    ">>> ten_d_array = make_multi_dimensional_array(my_one_d_array, my_dimension)\n",
    ">>> print(ten_d_array)\n",
    "[[[[[[[[[[2 4 6 8]]]]]]]]]]\n",
    "\n",
    "```\n",
    "\n",
    "Your function should be more detailed than the example I gave you. Include at least one of the following: \n",
    "- a conditional statement\n",
    "- an assignment operator\n",
    "- a loop (`for` or `while`)\n",
    "- `if`, `elif`, `else`, statement"
   ]
  },
  {
   "cell_type": "code",
   "execution_count": 119,
   "id": "46a50b0e-da11-4fed-bdc3-a579575ecfac",
   "metadata": {},
   "outputs": [
    {
     "name": "stdout",
     "output_type": "stream",
     "text": [
      "3.52 did not meet the condition '= 5'; is less than 5\n",
      "6.3 did not meet the condition '= 5'; is greater than 5\n",
      "9.7 did not meet the condition '= 5'; is greater than 5\n",
      "1.0 did not meet the condition '= 5'; is less than 5\n",
      "5.0 met the condition '= 5'\n",
      "(array([3.52, 6.3 , 9.7 , 1.  , 5.  ]), [False, False, False, False, True])\n"
     ]
    }
   ],
   "source": [
    "def filter_through_array(any_array, condition):\n",
    "    \n",
    "    #tests an array's values for whether they are equal to the condition\n",
    "    \n",
    "    \"\"\"\n",
    "    input: any 1-dimensional array, any number condition\n",
    "    output: specific printed lines of each element, whether it meets the condition & why; \n",
    "    output: a tuple of the original inputted array & a list of true-false value of whether the elements meet the condition.\n",
    "    \"\"\"\n",
    "\n",
    "    #intialize the true-false list\n",
    "    condition_met_list = []\n",
    "\n",
    "    #for loop to iterate thru every element in the 1-dimensional array\n",
    "    for element in any_array:\n",
    "\n",
    "        #if it is greater than\n",
    "        if element > condition:\n",
    "            condition_met_list.append(False)\n",
    "            print(f\"{element} did not meet the condition '= {condition}'; is greater than {condition}\")\n",
    "\n",
    "        #if it is lesser than\n",
    "        elif element < condition:\n",
    "            condition_met_list.append(False)\n",
    "            print(f\"{element} did not meet the condition '= {condition}'; is less than {condition}\")\n",
    "\n",
    "        #if it is equal to (else)\n",
    "        else:\n",
    "            condition_met_list.append(True)\n",
    "            print(f\"{element} met the condition '= {condition}'\")\n",
    "\n",
    "    #returns the tuple (\"second\" part of the output)\n",
    "    return (any_array, condition_met_list)\n",
    "\n",
    "arr1 = np.array([3.52, 6.3, 9.7, 1, 5])\n",
    "\n",
    "answer1 = filter_through_array(arr1, 5)\n",
    "print(answer1)"
   ]
  },
  {
   "cell_type": "markdown",
   "id": "88df7c51-0196-42b5-aabf-5068bc6ad675",
   "metadata": {},
   "source": [
    "In the section you took inspiration from, show all of the examples below. Follow good coding practices and give at least two test cases for each example. Don't forget comments! \\\n",
    "\\\n",
    "*For my example, I took inspiration from **NumPy Creating Arrays** so I would show following examples with DIFFERENT test cases: Create a NumPy ndarray Object, Dimensions in Arrays ,0-D Arrays, 1-D Arrays, 2-D Arrays, 3-D Arrays, Check Number of Dimensions, Higher Dimensional Arrays.*"
   ]
  },
  {
   "cell_type": "code",
   "execution_count": 231,
   "id": "193b91b8-de1d-4aee-af90-6a0e10930b55",
   "metadata": {},
   "outputs": [
    {
     "name": "stdout",
     "output_type": "stream",
     "text": [
      "[32 27]\n",
      "[True, False, False, True]\n",
      "[32 68]\n",
      "[False, True, True, False, True, False, True]\n",
      "[ 5  9 11  7]\n",
      "[ True  True False  True]\n",
      "[32 31 68]\n"
     ]
    }
   ],
   "source": [
    "#Example 1: \n",
    "\n",
    "#make an array (to be used in tests)\n",
    "arr = np.array([32, 31, 27, 68])\n",
    "\n",
    "#give conditions for the array to follow\n",
    "x = [True, False, True, False]\n",
    "\n",
    "#apply the conditions to the array, making a new array\n",
    "newarr = arr[x]\n",
    "\n",
    "print(newarr)\n",
    "\n",
    "#Example 2: Condition-based filter\n",
    "\n",
    "#same array from Example 1 \n",
    "arr = np.array([32, 31, 27, 68])\n",
    "\n",
    "# Create an empty list\n",
    "filter_arr = []\n",
    "\n",
    "# go through each element in arr\n",
    "for element in arr:\n",
    "  # if the element is higher than 31, set the value to True, otherwise False:\n",
    "  if element > 31:\n",
    "    filter_arr.append(True)\n",
    "  else:\n",
    "    filter_arr.append(False)\n",
    "\n",
    "newarr = arr[filter_arr]\n",
    "\n",
    "print(filter_arr)\n",
    "print(newarr)\n",
    "\n",
    "#Example 3: Only Odds Returned\n",
    "\n",
    "#make a array to be tested\n",
    "arr = np.array([2, 5, 9, 8, 11, 6, 7])\n",
    "\n",
    "# Create an empty list\n",
    "filter_arr = []\n",
    "\n",
    "# go through each element in arr\n",
    "for element in arr:\n",
    "  # if the element is not completely divisble by 2, set the value to True, otherwise False\n",
    "  if element % 2 != 0:\n",
    "    filter_arr.append(True)\n",
    "  else:\n",
    "    filter_arr.append(False)\n",
    "\n",
    "newarr = arr[filter_arr]\n",
    "\n",
    "print(filter_arr)\n",
    "print(newarr)\n",
    "\n",
    "#Example 4: Filter Directly From Array\n",
    "\n",
    "#same array as Example 1\n",
    "arr = np.array([32, 31, 27, 68])\n",
    "\n",
    "#the condition to be met (filter) is if the values within the array are greater than 30\n",
    "filter_arr = arr > 30\n",
    "\n",
    "newarr = arr[filter_arr]\n",
    "\n",
    "print(filter_arr)\n",
    "print(newarr)"
   ]
  },
  {
   "cell_type": "markdown",
   "id": "c90148dc-cac4-4322-86ff-5b112bae306f",
   "metadata": {},
   "source": [
    "In 2-3 sentences, describe how your function took inspiration from a section.\\\n",
    "\\\n",
    "*For my example, `make_multi_dimensional_array`, I would talk about the **NumPy Creating Arrays** section and how I took inspiration from the example **Higher Dimensional Arrays**.*"
   ]
  },
  {
   "cell_type": "code",
   "execution_count": 117,
   "id": "fe11ac2d-dcdb-4e51-9460-c3cc1be48bef",
   "metadata": {},
   "outputs": [],
   "source": [
    "#I took inspiration from the NumPy Filter Array section, from the Condition-Based Filter example. The Condition-Based Filter looks through every element within an array and checks if it meets a condition with an if-else statement. I used that to create my own function, which is basically just a more elaborate version of the given example (I provide sentences explaining why the element doesn't satisfy the inputted condition). "
   ]
  },
  {
   "cell_type": "markdown",
   "id": "8a834fd4-ef1b-4464-a07a-76e08a1c81c8",
   "metadata": {},
   "source": [
    "# 2 Brianna's Module\n",
    "During lecture we created and worked with a module called `even_sum.py`. Import that module here. "
   ]
  },
  {
   "cell_type": "code",
   "execution_count": 137,
   "id": "66e2a829-e478-4c97-8412-846cd93161f8",
   "metadata": {},
   "outputs": [],
   "source": [
    "import even_sum as es"
   ]
  },
  {
   "cell_type": "markdown",
   "id": "210ee2c2-9b81-4ea4-bbe7-2d1fa94d646e",
   "metadata": {},
   "source": [
    "Now that you have imported the module. Call the module and the first function with your own list of numbers. "
   ]
  },
  {
   "cell_type": "code",
   "execution_count": 143,
   "id": "89ad196d-5948-4e20-899a-d31eebdc4f2a",
   "metadata": {},
   "outputs": [
    {
     "data": {
      "text/plain": [
       "32"
      ]
     },
     "execution_count": 143,
     "metadata": {},
     "output_type": "execute_result"
    }
   ],
   "source": [
    "arr1 = np.array([2, 3, 4, 5, 6, 7, 8, 12, 17])\n",
    "\n",
    "es.sum_even_numbers(arr1)"
   ]
  },
  {
   "cell_type": "markdown",
   "id": "110d3cb8-b809-467b-9447-57810e4e3853",
   "metadata": {},
   "source": [
    "I have provided you a separate module called `example.py`. Import that module here."
   ]
  },
  {
   "cell_type": "code",
   "execution_count": 160,
   "id": "092eb2b9-dd15-4fdf-a7a2-ad32cd22ed88",
   "metadata": {},
   "outputs": [],
   "source": [
    "import example as ex"
   ]
  },
  {
   "cell_type": "markdown",
   "id": "a6922f89-01e7-41af-82e2-4236daa103b1",
   "metadata": {},
   "source": [
    "With the following variables, use my module to show which of the rocket's escape!"
   ]
  },
  {
   "cell_type": "code",
   "execution_count": 191,
   "id": "6b2e8b39-8441-469a-a128-19b04b8c8a2f",
   "metadata": {},
   "outputs": [],
   "source": [
    "rocket_velocities = np.array([\n",
    "    [1000, 5000, 8000, 12000],  # Rocket 1's velocity at different times\n",
    "    [2000, 6000, 9000, 10000],  # Rocket 2\n",
    "    [3000, 3100, 3200, 3300]    # Rocket 3\n",
    "])\n",
    "\n",
    "mass_of_planet = 5.972e24 # kilograms\n",
    "radius_of_planet = 6.371e6 # meters\n",
    "\n",
    "rocket1 = np.array([[1000, 5000, 8000, 12000]])\n",
    "rocket2 = np.array([[2000, 6000, 9000, 10000]])\n",
    "rocket3 = np.array([[3000, 3100, 3200, 3300]])"
   ]
  },
  {
   "cell_type": "code",
   "execution_count": 205,
   "id": "7f5ca127-50d2-4bdd-b886-72a4ad6adb0b",
   "metadata": {},
   "outputs": [
    {
     "data": {
      "text/plain": [
       "['Rocket left the planet!',\n",
       " 'Rocket is orbiting around the planet.',\n",
       " 'Rocket crashes back into the planet!']"
      ]
     },
     "execution_count": 205,
     "metadata": {},
     "output_type": "execute_result"
    }
   ],
   "source": [
    "ex.rocket_launch(rocket_velocities, 5.972e24, 6.371e6)"
   ]
  },
  {
   "cell_type": "code",
   "execution_count": 218,
   "id": "b4a7fce7-16e0-48dd-a961-f082f89b7682",
   "metadata": {},
   "outputs": [
    {
     "data": {
      "text/plain": [
       "['Rocket left the planet!']"
      ]
     },
     "execution_count": 218,
     "metadata": {},
     "output_type": "execute_result"
    }
   ],
   "source": [
    "#rocket1\n",
    "ex.rocket_launch(rocket1, 5.972e24, 6.371e6)"
   ]
  },
  {
   "cell_type": "code",
   "execution_count": 220,
   "id": "7df64c60-e36b-4274-ba2d-1a9475d8dc23",
   "metadata": {},
   "outputs": [
    {
     "data": {
      "text/plain": [
       "['Rocket is orbiting around the planet.']"
      ]
     },
     "execution_count": 220,
     "metadata": {},
     "output_type": "execute_result"
    }
   ],
   "source": [
    "#rocket2\n",
    "ex.rocket_launch(rocket2, 5.972e24, 6.371e6)"
   ]
  },
  {
   "cell_type": "code",
   "execution_count": 222,
   "id": "20f1b997-be10-4b44-8f54-9f31ae5ff3e0",
   "metadata": {},
   "outputs": [
    {
     "data": {
      "text/plain": [
       "['Rocket crashes back into the planet!']"
      ]
     },
     "execution_count": 222,
     "metadata": {},
     "output_type": "execute_result"
    }
   ],
   "source": [
    "#rocket3\n",
    "ex.rocket_launch(rocket3, 5.972e24, 6.371e6)"
   ]
  },
  {
   "cell_type": "markdown",
   "id": "9ab3de38-dbd9-438f-a587-67e8777c9c93",
   "metadata": {},
   "source": [
    "In 2-3 sentences describe how this code follows \"good coding practices\" and where there is room for improvement."
   ]
  },
  {
   "cell_type": "code",
   "execution_count": 225,
   "id": "94d49892-e1c0-4e6a-b05d-f9ddf3de4b44",
   "metadata": {},
   "outputs": [],
   "source": [
    "#The function specifies the inputs and outputs, with what type it should be given in. The function also uses variable names that are easy to decipher. One thing to improve on is to have more comments explaining what each line of code does within the function."
   ]
  },
  {
   "cell_type": "markdown",
   "id": "2dce5617-a86a-4327-aa99-f29548f3b92c",
   "metadata": {},
   "source": [
    "# 3 Your Turn!\n",
    "Now its your turn to make a module! Choose a topic from a class (could be physics, computer science, nuclear engineering, biology, astronomy, math, or an topic that interests you!) and build a module around it! Look at my module called `example.py` and base your structure around it. Your module NEEDS to include the following.\n",
    "\n",
    "Overall:\n",
    "1) Your module needs to use at least one NumPy function: https://numpy.org/devdocs/reference/routines.math.html\n",
    "2) Your module needs to contain a multi-dimensional array: https://numpy.org/devdocs/reference/arrays.ndarray.html \n",
    "3) Your module needs **at least** three functions that follow good coding practices.\n",
    "4) Inside your function, include comments. Don't forget to describe what the function is doing and what the inputs and outputs are.\n",
    "5) Your module needs either a `for` loop or `while` loop.\n",
    "6) Your module needs an `if`, `elif`, and `else` statement.\n",
    "7) Your module needs at least two assignment variables (`+=`, `*=`, etc).\n",
    "8) Creativity. *If it looks like you plugged this whole thing into ChatGPT, I will take off points. You can use ChatGPT to help you code, but you can't use it to just do your homework for you. That's no fun :(*\n",
    "\n",
    "In 2-3 sentences, describe the topic of your module and its capabilities. "
   ]
  },
  {
   "cell_type": "code",
   "execution_count": 154,
   "id": "0db7310e-b286-4ce7-aa0b-c211e243b7d6",
   "metadata": {},
   "outputs": [],
   "source": [
    "#My module can calculate approximate volume (three-dimensional integration) of a box. It needs to be given a min/max x and y value to integrate between and a max z value (the min z value is always 0). It also can be more accurate depending on how many riemann sum boxes (points) are given."
   ]
  },
  {
   "cell_type": "markdown",
   "id": "f9ec7fbd-1d6d-4c08-8528-e9cdaa7e3f6b",
   "metadata": {},
   "source": [
    "In 2-3 sentences, answer the following. What was the most challenging part of building this module? What did you learn in the process that you can apply to future coding assignments?"
   ]
  },
  {
   "cell_type": "code",
   "execution_count": 158,
   "id": "19898c20-2adb-4011-b95e-1da864f7801a",
   "metadata": {},
   "outputs": [],
   "source": [
    "#I don't know if my math is accurate. The most difficult part was trying to get the module to work when called into the notebook. I will try to make sure that my module's code is syntactically correct and coherent so that when called + fails (it's probably wrong), I know how to fix it."
   ]
  },
  {
   "cell_type": "markdown",
   "id": "85e943ab-1036-46bc-b9fb-da4ab1890816",
   "metadata": {},
   "source": [
    "Once your module is complete, import it here."
   ]
  },
  {
   "cell_type": "code",
   "execution_count": 120,
   "id": "fb9821b1-3cc0-4999-97eb-441571bbd5e1",
   "metadata": {},
   "outputs": [],
   "source": [
    "import threedimintegration as intgr"
   ]
  },
  {
   "cell_type": "markdown",
   "id": "ac42ebd4-e51b-4be4-aaa7-6c7d550abd30",
   "metadata": {},
   "source": [
    "Call each of your functions in the cell below. Make sure to show the outputs! "
   ]
  },
  {
   "cell_type": "code",
   "execution_count": 122,
   "id": "b63d3d1f-64bd-4dc7-b20f-c562d09c7c92",
   "metadata": {},
   "outputs": [
    {
     "data": {
      "text/plain": [
       "array([-5.        , -4.22222222, -3.44444444, -2.66666667, -1.88888889,\n",
       "       -1.11111111, -0.33333333,  0.44444444,  1.22222222,  2.        ])"
      ]
     },
     "execution_count": 122,
     "metadata": {},
     "output_type": "execute_result"
    }
   ],
   "source": [
    "intgr.riemann_sum_for_X(-5, 2, 10)"
   ]
  },
  {
   "cell_type": "code",
   "execution_count": 124,
   "id": "08e96cd8-eb12-4f6c-8cd6-3ae24badd4cc",
   "metadata": {},
   "outputs": [
    {
     "data": {
      "text/plain": [
       "array([-2.        , -1.22222222, -0.44444444,  0.33333333,  1.11111111,\n",
       "        1.88888889,  2.66666667,  3.44444444,  4.22222222,  5.        ])"
      ]
     },
     "execution_count": 124,
     "metadata": {},
     "output_type": "execute_result"
    }
   ],
   "source": [
    "intgr.riemann_sum_for_Y(-2, 5, 10)"
   ]
  },
  {
   "cell_type": "code",
   "execution_count": 149,
   "id": "b2b18c1d-1d8d-4dfb-a54d-ca6684c8abf3",
   "metadata": {},
   "outputs": [
    {
     "ename": "NameError",
     "evalue": "name 'num_x_dims' is not defined",
     "output_type": "error",
     "traceback": [
      "\u001b[0;31m---------------------------------------------------------------------------\u001b[0m",
      "\u001b[0;31mNameError\u001b[0m                                 Traceback (most recent call last)",
      "Cell \u001b[0;32mIn[149], line 1\u001b[0m\n\u001b[0;32m----> 1\u001b[0m intgr\u001b[38;5;241m.\u001b[39mcalculate_approx_volume(\u001b[38;5;241m-\u001b[39m\u001b[38;5;241m5\u001b[39m, \u001b[38;5;241m2\u001b[39m, \u001b[38;5;241m-\u001b[39m\u001b[38;5;241m2\u001b[39m, \u001b[38;5;241m5\u001b[39m, \u001b[38;5;241m10\u001b[39m, \u001b[38;5;241m10\u001b[39m, \u001b[38;5;241m8\u001b[39m)\n",
      "File \u001b[0;32m~/ULAB/ulab_caitlin/homework7/threedimintegration.py:25\u001b[0m, in \u001b[0;36mcalculate_approx_volume\u001b[0;34m(first_x_boundary, second_x_boundary, first_y_boundary, second_y_boundary, num_x_points, num_y_points, z)\u001b[0m\n\u001b[1;32m     23\u001b[0m riemann_sum_for_Y(first_y_boundary, second_y_boundary, num_y_points)\n\u001b[1;32m     24\u001b[0m \n\u001b[0;32m---> 25\u001b[0m for x, y in np.nditer([num_x_dims, num_y_dims]):\n\u001b[1;32m     26\u001b[0m     \n\u001b[1;32m     27\u001b[0m     x_y_area = x * y\n",
      "\u001b[0;31mNameError\u001b[0m: name 'num_x_dims' is not defined"
     ]
    }
   ],
   "source": [
    "intgr.calculate_approx_volume(-5, 2, -2, 5, 10, 10, 8)"
   ]
  },
  {
   "cell_type": "markdown",
   "id": "8cf33b19-9bca-484e-8129-d8a4896a1bfa",
   "metadata": {},
   "source": [
    "# 4 Proper Submission\n",
    "To recieve full credit for this assignment make sure you do the following:\n",
    "\n",
    "1) Copy this homework assignment from the `ulab_2024` repository into **YOUR** local `homework7` branch. It will contain this notebook and an additional file called `example.py`. \n",
    "   \n",
    "2) Follow the tasks. Make sure to run all the cells so that **all** output is visible. You will get points taken off if your ouputs are not shown!\n",
    "\n",
    "3) Add/commit/push this notebook and **ANY** modules (so you should have `example.py` and your module) used in this homework assignment to your remote `homework7` branch. Make sure to have NOTHING else in your branch (i.e. no previous homeworks or lecture notes).\n",
    "\n",
    "4) Do the following:\n",
    "- Take a screenshot of moving **into or out** of your `homework7` brach, call it `hw7_branch`.\n",
    "- Take a screenshot of calling `ls` in your `homework7` branch, it should only contain items relevent to homework 7, call it `hw7_ls`.\n",
    "- Take a screenshot of adding this assignment to your local `homework7` branch, call it `hw7_add`.\n",
    "- Take a screenshot of committing this assignment to your local `homework7` branch, call it `hw7_commit`.\n",
    "- Take a screenshot of pushing this assignment to your remote `homework7` branch, call it `hw7_push`. \n",
    "\n",
    "6) Include these screenshots in your `homework7` branch. Upload your `homework7` branch to Gradescope!"
   ]
  },
  {
   "cell_type": "code",
   "execution_count": null,
   "id": "a7e1101b-67b0-4d44-a3da-9f503d8a373f",
   "metadata": {},
   "outputs": [],
   "source": []
  }
 ],
 "metadata": {
  "kernelspec": {
   "display_name": "Python 3 (ipykernel)",
   "language": "python",
   "name": "python3"
  },
  "language_info": {
   "codemirror_mode": {
    "name": "ipython",
    "version": 3
   },
   "file_extension": ".py",
   "mimetype": "text/x-python",
   "name": "python",
   "nbconvert_exporter": "python",
   "pygments_lexer": "ipython3",
   "version": "3.12.4"
  }
 },
 "nbformat": 4,
 "nbformat_minor": 5
}
