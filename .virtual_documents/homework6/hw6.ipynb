





list_1 = [1, 2, 3, 4, 5, 6, 7, 8, 9, 10, 11, 12, 14, 15, 16, 17, 18, 19, 20]
list_2 = [27, 8, 15, 42, 3, 56, 91, 34, 78, 12]
list_3 = [49, 22, 67, 5, 84, 11, 38, 73, 90, 16] 

def slicing_and_striding(any_list):
    
    #returns a tuple of the sliced lists inside
    first_five = any_list[0:5:1]
    last_five = any_list[-5::1]
    every_second = any_list[0:-1:2]
    reverse_order = any_list[::-1]

    #return all of them as a tuple
    a = (first_five, last_five, every_second, reverse_order)

    return a

answer_1 = slicing_and_striding(list_1)
print(answer_1)

answer_2 = slicing_and_striding(list_2)
print(answer_2)

answer_3 = slicing_and_striding(list_3)
print(answer_3)






list_1 = [1, 2, 3, 4, 5, 6]
list_2 = [7, 8, 9, 10, 11]
list_3 = [12, 13, 14, 15, 16]

def square_and_cube(any_list):
    
    #initializes 2 new lists to contain squared values and cubed values of original list
    
    #list 1
    any_list_squared = []
    for num in any_list:
        num **= 2
        any_list_squared.append(num)
        
    #list 2
    any_list_cubed = []
    for num in any_list:
        num **= 3
        any_list_cubed.append(num)

    #return both lists as a tuple
    return (any_list_squared, any_list_cubed)

answer_1 = square_and_cube(list_1)
print(answer_1)

answer_2 = square_and_cube(list_2)
print(answer_2)

answer_3  = square_and_cube(list_3)
print(answer_3)





# A dictionary that contains some data about the planets in our solar system
planet_data = {
    "Mercury": 0.39, 
    "Venus": 0.72,
    "Earth": 1.00, # distance from the Sun in AU
    "Mars": 1.52,
    "Jupiter": 5.20,
    "Saturn": 9.58,
    "Uranus": 19.22,
    "Neptune": 30.05
}   

print(planet_data) # print the dictonary





planet_data = {
    "Mercury": 0.39, 
    "Venus": 0.72,
    "Earth": 1.00, # distance from the Sun in AU
    "Mars": 1.52,
    "Jupiter": 5.20,
    "Saturn": 9.58,
    "Uranus": 19.22,
    "Neptune": 30.05
}   

def print_dictionary(any_dict):
    #prints the distance of each planet to the sun in format: "planet is x AU from the sun"
    for key, value in any_dict.items():
        print(f"{key} is {value} AU from the sun") 

answer1 = print_dictionary(planet_data)
print(answer1)





print(list)


planet_data = {
    "Mercury": 0.39, 
    "Venus": 0.72,
    "Earth": 1.00, # distance from the Sun in AU
    "Mars": 1.52,
    "Jupiter": 5.20,
    "Saturn": 9.58,
    "Uranus": 19.22,
    "Neptune": 30.05
}   

#test
planets = list(planet_data.items())
print(planets)

print("------------------------")

def planets_farther_from_sun(any_dict):
    #turn the dictionary into a list, then index through the list to find values that are greater than/equal to 5
    planets = list(any_dict.items())
    index = 0
    while index < len(planets):
        key, value = planets[index]
            #assign the first item in each tuple (the key) 'key' and the second item (the value) 'value'
        if value >= 5:
            print(f"{key} ({value} AU away from Sun)")
        index += 1    

answer1 = planets_farther_from_sun(planet_data)
print(answer1)


planets = list(planet_data.items())
print(planets)








magnitudes = [12.5, 13.2, 14.8, 19.1, 21.0, 18.5, 15.3, 10.5, 23.0]

def star_magnitudes(magnitude_list):
    #takes any list of magnitudes and outputs a tuple with the list of brightnesses of those magnitudes as well as the total brightness of all of the magnitudes
    brightnesses = []
    #initialize a brightnesses list
    
    for magnitudes in magnitude_list:
        #iterate through the magnitudes, generate the brightness for each, add the brightness to the initialized list
        brightness = 10**(-(magnitudes)/2.5)
        int(brightness)
        brightnesses.append(brightness)
        
        total_sum = 0
        #initialize a total_sum to be added to
        
        for brightness in brightnesses:
            #iterate through brightnesses in the new list & add them to the initialized sum
            total_sum += brightness
            
    return [brightnesses, total_sum]

answer = star_magnitudes(magnitudes)
print(answer)

print(type(answer))





def observation_times(magnitude_list):
    #takes the tuple from the previous function, only using the list within the tuple
    observation_time_list = []
    #initialize an observation time list

    brightnesses_list = []
    for magnitudes in magnitude_list:
        #iterate through the magnitudes, generate the brightness for each, add the brightness to the initialized list
        brightness = 10**(-(magnitudes)/2.5)
        brightnesses_list.append(brightness)

    for brightness in brightnesses_list:
        #interate thru the values (brightness) in the list brightnesses_list, generate the observation times, add the times to the initialized observation_time_list
        observation_time = (1/brightness)
        observation_time_list.append(observation_time)

        total_observation_time = 0
        #intialize the total observation time sum to be added to
                
        if brightness < 10**(-(20/2.25)):
            #if the individual brightness value (brightness) within the brightnesses_list is less than magnitude 20, add the individual brightness value to the initialized sum
            total_observation_time += observation_time
                    
    return (observation_time_list, total_observation_time)
        
answer2 = observation_times(magnitudes)
print(answer2)
        





magnitudes = [12.5, 13.2, 14.8, 19.1, 21.0, 18.5, 15.3, 10.5, 23.0]
time_limit = 500000 #changed time limit to 500 thousand from 500

def how_long_to_observe_stars(magnitude_list, time_limit = 500000):
    #takes a magnitude list and a set time limit (500,000 secs)

    #initialize a counter for how long to observe (total time)
    total_time = 0

    #initialize a counter for stars observed
    number_of_stars_observed = 0

    #while the total time is less than 500,000
    while total_time <= time_limit:

        #iterate thru magnitudes in the given magnitude list
        for magnitude in magnitude_list:

            #if the magnitude is less than 20, include it
            if magnitude < 20:
                
                #generate the brightness
                brightness = 10**(-(magnitude)/2.5)

                #use the brightness to generate observation time
                observation_time = (1/brightness)

                #add observation time to total time
                total_time += observation_time

                #add 1 to the counter (1 more star counted) every time another magnitude is iterated within the time limit
                number_of_stars_observed += 1
                
    return (number_of_stars_observed, total_time)

answer3 = how_long_to_observe_stars(magnitudes)
print(answer3)





new_test_case = [-12.7, -4.92, 2.94, 2.48, 0.55, 30]

my_return_func1 = star_magnitudes(new_test_case)
print(my_return_func1)

my_return_func2 = observation_times(new_test_case)
print(my_return_func2)

my_return_func3 = how_long_to_observe_stars(new_test_case, time_limit = 300000)
print(my_return_func3)





def quadratic_formula(a, b, c):
    #takes 3 numbers (a, b, c) and inputs them into the quadratic formula
    #input: 3 numbers a, b, & c
    #output: positive answer (plus), negative answer (minus)

    #create denominator
    bottom = 2 * a
    
    #create numerator
    #neg_answer = the minus part of plus or minus sqrt 
    pos_numerator = (-b + (b**2 - 4 * a * c)**(1/2)) 
    neg_numerator = (-b - (b**2 - 4 * a * c)**(1/2)) 

    #divide
    pos_answer = pos_numerator / bottom
    neg_answer = neg_numerator / bottom

    #return both answers
    return [pos_answer, neg_answer]

test_case1 = quadratic_formula(2, -5, 3)
print (test_case1)






